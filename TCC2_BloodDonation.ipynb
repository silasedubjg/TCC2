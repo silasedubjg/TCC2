{
  "nbformat": 4,
  "nbformat_minor": 0,
  "metadata": {
    "colab": {
      "name": "TCC2_BloodDonation.ipynb",
      "provenance": [],
      "collapsed_sections": [],
      "mount_file_id": "1_0VLdSQBUpuBuuMcVAG9sJ1y6Xg1UQh1",
      "authorship_tag": "ABX9TyNg8bFHBa5XimOB5y+73mPk",
      "include_colab_link": true
    },
    "kernelspec": {
      "name": "python3",
      "display_name": "Python 3"
    },
    "language_info": {
      "name": "python"
    }
  },
  "cells": [
    {
      "cell_type": "markdown",
      "metadata": {
        "id": "view-in-github",
        "colab_type": "text"
      },
      "source": [
        "<a href=\"https://colab.research.google.com/github/silasedubjg/TCC2/blob/main/TCC2_BloodDonation.ipynb\" target=\"_parent\"><img src=\"https://colab.research.google.com/assets/colab-badge.svg\" alt=\"Open In Colab\"/></a>"
      ]
    },
    {
      "cell_type": "markdown",
      "source": [
        "Instalando biblioteca Pandas"
      ],
      "metadata": {
        "id": "0mHQrbwd0meu"
      }
    },
    {
      "cell_type": "markdown",
      "source": [
        "# Nova seção"
      ],
      "metadata": {
        "id": "v_7Ap9g41bB9"
      }
    },
    {
      "cell_type": "markdown",
      "source": [
        "**Carregando os dados** ,\n",
        "**Instalando bibliotecas**\n"
      ],
      "metadata": {
        "id": "99g03Y9d1rHr"
      }
    },
    {
      "cell_type": "code",
      "source": [
        "!pip install scikit-learn\n",
        "!pip install pandas-profiling[notebook]\n",
        "\n",
        "\n",
        "import pandas as pd\n",
        "import pandas_profiling as pf\n",
        "\n",
        "df = pd.read_csv('/content/transfusion (2).data')\n",
        "df.head()\n"
      ],
      "metadata": {
        "colab": {
          "base_uri": "https://localhost:8080/",
          "height": 1000
        },
        "id": "42vhWI_ViTfG",
        "outputId": "f99efa19-1d96-4b70-d8fa-4a8288987b73"
      },
      "execution_count": 12,
      "outputs": [
        {
          "output_type": "stream",
          "name": "stdout",
          "text": [
            "Looking in indexes: https://pypi.org/simple, https://us-python.pkg.dev/colab-wheels/public/simple/\n",
            "Requirement already satisfied: scikit-learn in /usr/local/lib/python3.7/dist-packages (1.0.2)\n",
            "Requirement already satisfied: threadpoolctl>=2.0.0 in /usr/local/lib/python3.7/dist-packages (from scikit-learn) (3.1.0)\n",
            "Requirement already satisfied: scipy>=1.1.0 in /usr/local/lib/python3.7/dist-packages (from scikit-learn) (1.7.3)\n",
            "Requirement already satisfied: joblib>=0.11 in /usr/local/lib/python3.7/dist-packages (from scikit-learn) (1.1.0)\n",
            "Requirement already satisfied: numpy>=1.14.6 in /usr/local/lib/python3.7/dist-packages (from scikit-learn) (1.21.6)\n",
            "Looking in indexes: https://pypi.org/simple, https://us-python.pkg.dev/colab-wheels/public/simple/\n",
            "Requirement already satisfied: pandas-profiling[notebook] in /usr/local/lib/python3.7/dist-packages (2.8.0)\n",
            "Requirement already satisfied: astropy>=4.0 in /usr/local/lib/python3.7/dist-packages (from pandas-profiling[notebook]) (4.3.1)\n",
            "Requirement already satisfied: confuse>=1.0.0 in /usr/local/lib/python3.7/dist-packages (from pandas-profiling[notebook]) (2.0.0)\n",
            "Requirement already satisfied: tqdm>=4.43.0 in /usr/local/lib/python3.7/dist-packages (from pandas-profiling[notebook]) (4.64.0)\n",
            "Requirement already satisfied: phik>=0.9.10 in /usr/local/lib/python3.7/dist-packages (from pandas-profiling[notebook]) (0.12.2)\n",
            "Requirement already satisfied: scipy>=1.4.1 in /usr/local/lib/python3.7/dist-packages (from pandas-profiling[notebook]) (1.7.3)\n",
            "Requirement already satisfied: pandas!=1.0.0,!=1.0.1,!=1.0.2,>=0.25.3 in /usr/local/lib/python3.7/dist-packages (from pandas-profiling[notebook]) (1.3.5)\n",
            "Requirement already satisfied: visions[type_image_path]==0.4.4 in /usr/local/lib/python3.7/dist-packages (from pandas-profiling[notebook]) (0.4.4)\n",
            "Requirement already satisfied: htmlmin>=0.1.12 in /usr/local/lib/python3.7/dist-packages (from pandas-profiling[notebook]) (0.1.12)\n",
            "Requirement already satisfied: matplotlib>=3.2.0 in /usr/local/lib/python3.7/dist-packages (from pandas-profiling[notebook]) (3.2.2)\n",
            "Requirement already satisfied: jinja2>=2.11.1 in /usr/local/lib/python3.7/dist-packages (from pandas-profiling[notebook]) (2.11.3)\n",
            "Requirement already satisfied: joblib in /usr/local/lib/python3.7/dist-packages (from pandas-profiling[notebook]) (1.1.0)\n",
            "Requirement already satisfied: tangled-up-in-unicode>=0.0.6 in /usr/local/lib/python3.7/dist-packages (from pandas-profiling[notebook]) (0.2.0)\n",
            "Requirement already satisfied: missingno>=0.4.2 in /usr/local/lib/python3.7/dist-packages (from pandas-profiling[notebook]) (0.5.1)\n",
            "Requirement already satisfied: numpy>=1.16.0 in /usr/local/lib/python3.7/dist-packages (from pandas-profiling[notebook]) (1.21.6)\n",
            "Requirement already satisfied: ipywidgets>=7.5.1 in /usr/local/lib/python3.7/dist-packages (from pandas-profiling[notebook]) (7.7.1)\n",
            "Requirement already satisfied: requests>=2.23.0 in /usr/local/lib/python3.7/dist-packages (from pandas-profiling[notebook]) (2.23.0)\n",
            "Requirement already satisfied: jupyter-core>=4.6.3 in /usr/local/lib/python3.7/dist-packages (from pandas-profiling[notebook]) (4.11.1)\n",
            "Collecting jupyter-client>=6.0.0\n",
            "  Downloading jupyter_client-7.3.4-py3-none-any.whl (132 kB)\n",
            "\u001b[K     |████████████████████████████████| 132 kB 6.5 MB/s \n",
            "\u001b[?25hRequirement already satisfied: attrs>=19.3.0 in /usr/local/lib/python3.7/dist-packages (from visions[type_image_path]==0.4.4->pandas-profiling[notebook]) (21.4.0)\n",
            "Requirement already satisfied: networkx>=2.4 in /usr/local/lib/python3.7/dist-packages (from visions[type_image_path]==0.4.4->pandas-profiling[notebook]) (2.6.3)\n",
            "Requirement already satisfied: imagehash in /usr/local/lib/python3.7/dist-packages (from visions[type_image_path]==0.4.4->pandas-profiling[notebook]) (4.2.1)\n",
            "Requirement already satisfied: Pillow in /usr/local/lib/python3.7/dist-packages (from visions[type_image_path]==0.4.4->pandas-profiling[notebook]) (7.1.2)\n",
            "Requirement already satisfied: importlib-metadata in /usr/local/lib/python3.7/dist-packages (from astropy>=4.0->pandas-profiling[notebook]) (4.12.0)\n",
            "Requirement already satisfied: pyerfa>=1.7.3 in /usr/local/lib/python3.7/dist-packages (from astropy>=4.0->pandas-profiling[notebook]) (2.0.0.1)\n",
            "Requirement already satisfied: pyyaml in /usr/local/lib/python3.7/dist-packages (from confuse>=1.0.0->pandas-profiling[notebook]) (3.13)\n",
            "Requirement already satisfied: ipython>=4.0.0 in /usr/local/lib/python3.7/dist-packages (from ipywidgets>=7.5.1->pandas-profiling[notebook]) (5.5.0)\n",
            "Requirement already satisfied: widgetsnbextension~=3.6.0 in /usr/local/lib/python3.7/dist-packages (from ipywidgets>=7.5.1->pandas-profiling[notebook]) (3.6.1)\n",
            "Requirement already satisfied: ipykernel>=4.5.1 in /usr/local/lib/python3.7/dist-packages (from ipywidgets>=7.5.1->pandas-profiling[notebook]) (4.10.1)\n",
            "Requirement already satisfied: ipython-genutils~=0.2.0 in /usr/local/lib/python3.7/dist-packages (from ipywidgets>=7.5.1->pandas-profiling[notebook]) (0.2.0)\n",
            "Requirement already satisfied: jupyterlab-widgets>=1.0.0 in /usr/local/lib/python3.7/dist-packages (from ipywidgets>=7.5.1->pandas-profiling[notebook]) (1.1.1)\n",
            "Requirement already satisfied: traitlets>=4.3.1 in /usr/local/lib/python3.7/dist-packages (from ipywidgets>=7.5.1->pandas-profiling[notebook]) (5.1.1)\n",
            "Requirement already satisfied: tornado>=4.0 in /usr/local/lib/python3.7/dist-packages (from ipykernel>=4.5.1->ipywidgets>=7.5.1->pandas-profiling[notebook]) (5.1.1)\n",
            "Requirement already satisfied: prompt-toolkit<2.0.0,>=1.0.4 in /usr/local/lib/python3.7/dist-packages (from ipython>=4.0.0->ipywidgets>=7.5.1->pandas-profiling[notebook]) (1.0.18)\n",
            "Requirement already satisfied: simplegeneric>0.8 in /usr/local/lib/python3.7/dist-packages (from ipython>=4.0.0->ipywidgets>=7.5.1->pandas-profiling[notebook]) (0.8.1)\n",
            "Requirement already satisfied: pickleshare in /usr/local/lib/python3.7/dist-packages (from ipython>=4.0.0->ipywidgets>=7.5.1->pandas-profiling[notebook]) (0.7.5)\n",
            "Requirement already satisfied: pygments in /usr/local/lib/python3.7/dist-packages (from ipython>=4.0.0->ipywidgets>=7.5.1->pandas-profiling[notebook]) (2.6.1)\n",
            "Requirement already satisfied: pexpect in /usr/local/lib/python3.7/dist-packages (from ipython>=4.0.0->ipywidgets>=7.5.1->pandas-profiling[notebook]) (4.8.0)\n",
            "Requirement already satisfied: setuptools>=18.5 in /usr/local/lib/python3.7/dist-packages (from ipython>=4.0.0->ipywidgets>=7.5.1->pandas-profiling[notebook]) (57.4.0)\n",
            "Requirement already satisfied: decorator in /usr/local/lib/python3.7/dist-packages (from ipython>=4.0.0->ipywidgets>=7.5.1->pandas-profiling[notebook]) (4.4.2)\n",
            "Requirement already satisfied: MarkupSafe>=0.23 in /usr/local/lib/python3.7/dist-packages (from jinja2>=2.11.1->pandas-profiling[notebook]) (2.0.1)\n",
            "Requirement already satisfied: nest-asyncio>=1.5.4 in /usr/local/lib/python3.7/dist-packages (from jupyter-client>=6.0.0->pandas-profiling[notebook]) (1.5.5)\n",
            "Requirement already satisfied: pyzmq>=23.0 in /usr/local/lib/python3.7/dist-packages (from jupyter-client>=6.0.0->pandas-profiling[notebook]) (23.2.0)\n",
            "Requirement already satisfied: entrypoints in /usr/local/lib/python3.7/dist-packages (from jupyter-client>=6.0.0->pandas-profiling[notebook]) (0.4)\n",
            "Requirement already satisfied: python-dateutil>=2.8.2 in /usr/local/lib/python3.7/dist-packages (from jupyter-client>=6.0.0->pandas-profiling[notebook]) (2.8.2)\n",
            "Collecting tornado>=4.0\n",
            "  Downloading tornado-6.2-cp37-abi3-manylinux_2_5_x86_64.manylinux1_x86_64.manylinux_2_17_x86_64.manylinux2014_x86_64.whl (423 kB)\n",
            "\u001b[K     |████████████████████████████████| 423 kB 35.5 MB/s \n",
            "\u001b[?25hRequirement already satisfied: kiwisolver>=1.0.1 in /usr/local/lib/python3.7/dist-packages (from matplotlib>=3.2.0->pandas-profiling[notebook]) (1.4.3)\n",
            "Requirement already satisfied: pyparsing!=2.0.4,!=2.1.2,!=2.1.6,>=2.0.1 in /usr/local/lib/python3.7/dist-packages (from matplotlib>=3.2.0->pandas-profiling[notebook]) (3.0.9)\n",
            "Requirement already satisfied: cycler>=0.10 in /usr/local/lib/python3.7/dist-packages (from matplotlib>=3.2.0->pandas-profiling[notebook]) (0.11.0)\n",
            "Requirement already satisfied: typing-extensions in /usr/local/lib/python3.7/dist-packages (from kiwisolver>=1.0.1->matplotlib>=3.2.0->pandas-profiling[notebook]) (4.1.1)\n",
            "Requirement already satisfied: seaborn in /usr/local/lib/python3.7/dist-packages (from missingno>=0.4.2->pandas-profiling[notebook]) (0.11.2)\n",
            "Requirement already satisfied: pytz>=2017.3 in /usr/local/lib/python3.7/dist-packages (from pandas!=1.0.0,!=1.0.1,!=1.0.2,>=0.25.3->pandas-profiling[notebook]) (2022.1)\n",
            "Requirement already satisfied: wcwidth in /usr/local/lib/python3.7/dist-packages (from prompt-toolkit<2.0.0,>=1.0.4->ipython>=4.0.0->ipywidgets>=7.5.1->pandas-profiling[notebook]) (0.2.5)\n",
            "Requirement already satisfied: six>=1.9.0 in /usr/local/lib/python3.7/dist-packages (from prompt-toolkit<2.0.0,>=1.0.4->ipython>=4.0.0->ipywidgets>=7.5.1->pandas-profiling[notebook]) (1.15.0)\n",
            "Requirement already satisfied: idna<3,>=2.5 in /usr/local/lib/python3.7/dist-packages (from requests>=2.23.0->pandas-profiling[notebook]) (2.10)\n",
            "Requirement already satisfied: certifi>=2017.4.17 in /usr/local/lib/python3.7/dist-packages (from requests>=2.23.0->pandas-profiling[notebook]) (2022.6.15)\n",
            "Requirement already satisfied: urllib3!=1.25.0,!=1.25.1,<1.26,>=1.21.1 in /usr/local/lib/python3.7/dist-packages (from requests>=2.23.0->pandas-profiling[notebook]) (1.24.3)\n",
            "Requirement already satisfied: chardet<4,>=3.0.2 in /usr/local/lib/python3.7/dist-packages (from requests>=2.23.0->pandas-profiling[notebook]) (3.0.4)\n",
            "Requirement already satisfied: notebook>=4.4.1 in /usr/local/lib/python3.7/dist-packages (from widgetsnbextension~=3.6.0->ipywidgets>=7.5.1->pandas-profiling[notebook]) (5.3.1)\n",
            "Requirement already satisfied: Send2Trash in /usr/local/lib/python3.7/dist-packages (from notebook>=4.4.1->widgetsnbextension~=3.6.0->ipywidgets>=7.5.1->pandas-profiling[notebook]) (1.8.0)\n",
            "Requirement already satisfied: nbformat in /usr/local/lib/python3.7/dist-packages (from notebook>=4.4.1->widgetsnbextension~=3.6.0->ipywidgets>=7.5.1->pandas-profiling[notebook]) (5.4.0)\n",
            "Requirement already satisfied: nbconvert in /usr/local/lib/python3.7/dist-packages (from notebook>=4.4.1->widgetsnbextension~=3.6.0->ipywidgets>=7.5.1->pandas-profiling[notebook]) (5.6.1)\n",
            "Requirement already satisfied: terminado>=0.8.1 in /usr/local/lib/python3.7/dist-packages (from notebook>=4.4.1->widgetsnbextension~=3.6.0->ipywidgets>=7.5.1->pandas-profiling[notebook]) (0.13.3)\n",
            "Requirement already satisfied: ptyprocess in /usr/local/lib/python3.7/dist-packages (from terminado>=0.8.1->notebook>=4.4.1->widgetsnbextension~=3.6.0->ipywidgets>=7.5.1->pandas-profiling[notebook]) (0.7.0)\n",
            "Requirement already satisfied: PyWavelets in /usr/local/lib/python3.7/dist-packages (from imagehash->visions[type_image_path]==0.4.4->pandas-profiling[notebook]) (1.3.0)\n",
            "Requirement already satisfied: zipp>=0.5 in /usr/local/lib/python3.7/dist-packages (from importlib-metadata->astropy>=4.0->pandas-profiling[notebook]) (3.8.0)\n",
            "Requirement already satisfied: mistune<2,>=0.8.1 in /usr/local/lib/python3.7/dist-packages (from nbconvert->notebook>=4.4.1->widgetsnbextension~=3.6.0->ipywidgets>=7.5.1->pandas-profiling[notebook]) (0.8.4)\n",
            "Requirement already satisfied: defusedxml in /usr/local/lib/python3.7/dist-packages (from nbconvert->notebook>=4.4.1->widgetsnbextension~=3.6.0->ipywidgets>=7.5.1->pandas-profiling[notebook]) (0.7.1)\n",
            "Requirement already satisfied: bleach in /usr/local/lib/python3.7/dist-packages (from nbconvert->notebook>=4.4.1->widgetsnbextension~=3.6.0->ipywidgets>=7.5.1->pandas-profiling[notebook]) (5.0.1)\n",
            "Requirement already satisfied: testpath in /usr/local/lib/python3.7/dist-packages (from nbconvert->notebook>=4.4.1->widgetsnbextension~=3.6.0->ipywidgets>=7.5.1->pandas-profiling[notebook]) (0.6.0)\n",
            "Requirement already satisfied: pandocfilters>=1.4.1 in /usr/local/lib/python3.7/dist-packages (from nbconvert->notebook>=4.4.1->widgetsnbextension~=3.6.0->ipywidgets>=7.5.1->pandas-profiling[notebook]) (1.5.0)\n",
            "Requirement already satisfied: jsonschema>=2.6 in /usr/local/lib/python3.7/dist-packages (from nbformat->notebook>=4.4.1->widgetsnbextension~=3.6.0->ipywidgets>=7.5.1->pandas-profiling[notebook]) (4.3.3)\n",
            "Requirement already satisfied: fastjsonschema in /usr/local/lib/python3.7/dist-packages (from nbformat->notebook>=4.4.1->widgetsnbextension~=3.6.0->ipywidgets>=7.5.1->pandas-profiling[notebook]) (2.15.3)\n",
            "Requirement already satisfied: pyrsistent!=0.17.0,!=0.17.1,!=0.17.2,>=0.14.0 in /usr/local/lib/python3.7/dist-packages (from jsonschema>=2.6->nbformat->notebook>=4.4.1->widgetsnbextension~=3.6.0->ipywidgets>=7.5.1->pandas-profiling[notebook]) (0.18.1)\n",
            "Requirement already satisfied: importlib-resources>=1.4.0 in /usr/local/lib/python3.7/dist-packages (from jsonschema>=2.6->nbformat->notebook>=4.4.1->widgetsnbextension~=3.6.0->ipywidgets>=7.5.1->pandas-profiling[notebook]) (5.8.0)\n",
            "Requirement already satisfied: webencodings in /usr/local/lib/python3.7/dist-packages (from bleach->nbconvert->notebook>=4.4.1->widgetsnbextension~=3.6.0->ipywidgets>=7.5.1->pandas-profiling[notebook]) (0.5.1)\n",
            "Installing collected packages: tornado, jupyter-client\n",
            "  Attempting uninstall: tornado\n",
            "    Found existing installation: tornado 5.1.1\n",
            "    Uninstalling tornado-5.1.1:\n",
            "      Successfully uninstalled tornado-5.1.1\n",
            "  Attempting uninstall: jupyter-client\n",
            "    Found existing installation: jupyter-client 5.3.5\n",
            "    Uninstalling jupyter-client-5.3.5:\n",
            "      Successfully uninstalled jupyter-client-5.3.5\n",
            "\u001b[31mERROR: pip's dependency resolver does not currently take into account all the packages that are installed. This behaviour is the source of the following dependency conflicts.\n",
            "nbclient 0.6.6 requires traitlets>=5.2.2, but you have traitlets 5.1.1 which is incompatible.\n",
            "google-colab 1.0.0 requires tornado~=5.1.0; python_version >= \"3.0\", but you have tornado 6.2 which is incompatible.\u001b[0m\n",
            "Successfully installed jupyter-client-7.3.4 tornado-6.2\n"
          ]
        },
        {
          "output_type": "display_data",
          "data": {
            "application/vnd.colab-display-data+json": {
              "pip_warning": {
                "packages": [
                  "tornado"
                ]
              }
            }
          },
          "metadata": {}
        },
        {
          "output_type": "execute_result",
          "data": {
            "text/plain": [
              "   Recency (months)  Frequency (times)  Monetary (c.c. blood)  Time (months)  \\\n",
              "0                 2                 50                  12500             98   \n",
              "1                 0                 13                   3250             28   \n",
              "2                 1                 16                   4000             35   \n",
              "3                 2                 20                   5000             45   \n",
              "4                 1                 24                   6000             77   \n",
              "\n",
              "   whether he/she donated blood in March 2007  \n",
              "0                                           1  \n",
              "1                                           1  \n",
              "2                                           1  \n",
              "3                                           1  \n",
              "4                                           0  "
            ],
            "text/html": [
              "\n",
              "  <div id=\"df-4782bd43-9e98-407c-8472-97b63177e577\">\n",
              "    <div class=\"colab-df-container\">\n",
              "      <div>\n",
              "<style scoped>\n",
              "    .dataframe tbody tr th:only-of-type {\n",
              "        vertical-align: middle;\n",
              "    }\n",
              "\n",
              "    .dataframe tbody tr th {\n",
              "        vertical-align: top;\n",
              "    }\n",
              "\n",
              "    .dataframe thead th {\n",
              "        text-align: right;\n",
              "    }\n",
              "</style>\n",
              "<table border=\"1\" class=\"dataframe\">\n",
              "  <thead>\n",
              "    <tr style=\"text-align: right;\">\n",
              "      <th></th>\n",
              "      <th>Recency (months)</th>\n",
              "      <th>Frequency (times)</th>\n",
              "      <th>Monetary (c.c. blood)</th>\n",
              "      <th>Time (months)</th>\n",
              "      <th>whether he/she donated blood in March 2007</th>\n",
              "    </tr>\n",
              "  </thead>\n",
              "  <tbody>\n",
              "    <tr>\n",
              "      <th>0</th>\n",
              "      <td>2</td>\n",
              "      <td>50</td>\n",
              "      <td>12500</td>\n",
              "      <td>98</td>\n",
              "      <td>1</td>\n",
              "    </tr>\n",
              "    <tr>\n",
              "      <th>1</th>\n",
              "      <td>0</td>\n",
              "      <td>13</td>\n",
              "      <td>3250</td>\n",
              "      <td>28</td>\n",
              "      <td>1</td>\n",
              "    </tr>\n",
              "    <tr>\n",
              "      <th>2</th>\n",
              "      <td>1</td>\n",
              "      <td>16</td>\n",
              "      <td>4000</td>\n",
              "      <td>35</td>\n",
              "      <td>1</td>\n",
              "    </tr>\n",
              "    <tr>\n",
              "      <th>3</th>\n",
              "      <td>2</td>\n",
              "      <td>20</td>\n",
              "      <td>5000</td>\n",
              "      <td>45</td>\n",
              "      <td>1</td>\n",
              "    </tr>\n",
              "    <tr>\n",
              "      <th>4</th>\n",
              "      <td>1</td>\n",
              "      <td>24</td>\n",
              "      <td>6000</td>\n",
              "      <td>77</td>\n",
              "      <td>0</td>\n",
              "    </tr>\n",
              "  </tbody>\n",
              "</table>\n",
              "</div>\n",
              "      <button class=\"colab-df-convert\" onclick=\"convertToInteractive('df-4782bd43-9e98-407c-8472-97b63177e577')\"\n",
              "              title=\"Convert this dataframe to an interactive table.\"\n",
              "              style=\"display:none;\">\n",
              "        \n",
              "  <svg xmlns=\"http://www.w3.org/2000/svg\" height=\"24px\"viewBox=\"0 0 24 24\"\n",
              "       width=\"24px\">\n",
              "    <path d=\"M0 0h24v24H0V0z\" fill=\"none\"/>\n",
              "    <path d=\"M18.56 5.44l.94 2.06.94-2.06 2.06-.94-2.06-.94-.94-2.06-.94 2.06-2.06.94zm-11 1L8.5 8.5l.94-2.06 2.06-.94-2.06-.94L8.5 2.5l-.94 2.06-2.06.94zm10 10l.94 2.06.94-2.06 2.06-.94-2.06-.94-.94-2.06-.94 2.06-2.06.94z\"/><path d=\"M17.41 7.96l-1.37-1.37c-.4-.4-.92-.59-1.43-.59-.52 0-1.04.2-1.43.59L10.3 9.45l-7.72 7.72c-.78.78-.78 2.05 0 2.83L4 21.41c.39.39.9.59 1.41.59.51 0 1.02-.2 1.41-.59l7.78-7.78 2.81-2.81c.8-.78.8-2.07 0-2.86zM5.41 20L4 18.59l7.72-7.72 1.47 1.35L5.41 20z\"/>\n",
              "  </svg>\n",
              "      </button>\n",
              "      \n",
              "  <style>\n",
              "    .colab-df-container {\n",
              "      display:flex;\n",
              "      flex-wrap:wrap;\n",
              "      gap: 12px;\n",
              "    }\n",
              "\n",
              "    .colab-df-convert {\n",
              "      background-color: #E8F0FE;\n",
              "      border: none;\n",
              "      border-radius: 50%;\n",
              "      cursor: pointer;\n",
              "      display: none;\n",
              "      fill: #1967D2;\n",
              "      height: 32px;\n",
              "      padding: 0 0 0 0;\n",
              "      width: 32px;\n",
              "    }\n",
              "\n",
              "    .colab-df-convert:hover {\n",
              "      background-color: #E2EBFA;\n",
              "      box-shadow: 0px 1px 2px rgba(60, 64, 67, 0.3), 0px 1px 3px 1px rgba(60, 64, 67, 0.15);\n",
              "      fill: #174EA6;\n",
              "    }\n",
              "\n",
              "    [theme=dark] .colab-df-convert {\n",
              "      background-color: #3B4455;\n",
              "      fill: #D2E3FC;\n",
              "    }\n",
              "\n",
              "    [theme=dark] .colab-df-convert:hover {\n",
              "      background-color: #434B5C;\n",
              "      box-shadow: 0px 1px 3px 1px rgba(0, 0, 0, 0.15);\n",
              "      filter: drop-shadow(0px 1px 2px rgba(0, 0, 0, 0.3));\n",
              "      fill: #FFFFFF;\n",
              "    }\n",
              "  </style>\n",
              "\n",
              "      <script>\n",
              "        const buttonEl =\n",
              "          document.querySelector('#df-4782bd43-9e98-407c-8472-97b63177e577 button.colab-df-convert');\n",
              "        buttonEl.style.display =\n",
              "          google.colab.kernel.accessAllowed ? 'block' : 'none';\n",
              "\n",
              "        async function convertToInteractive(key) {\n",
              "          const element = document.querySelector('#df-4782bd43-9e98-407c-8472-97b63177e577');\n",
              "          const dataTable =\n",
              "            await google.colab.kernel.invokeFunction('convertToInteractive',\n",
              "                                                     [key], {});\n",
              "          if (!dataTable) return;\n",
              "\n",
              "          const docLinkHtml = 'Like what you see? Visit the ' +\n",
              "            '<a target=\"_blank\" href=https://colab.research.google.com/notebooks/data_table.ipynb>data table notebook</a>'\n",
              "            + ' to learn more about interactive tables.';\n",
              "          element.innerHTML = '';\n",
              "          dataTable['output_type'] = 'display_data';\n",
              "          await google.colab.output.renderOutput(dataTable, element);\n",
              "          const docLink = document.createElement('div');\n",
              "          docLink.innerHTML = docLinkHtml;\n",
              "          element.appendChild(docLink);\n",
              "        }\n",
              "      </script>\n",
              "    </div>\n",
              "  </div>\n",
              "  "
            ]
          },
          "metadata": {},
          "execution_count": 12
        }
      ]
    },
    {
      "cell_type": "code",
      "source": [
        ""
      ],
      "metadata": {
        "id": "UJu1Uwuj-AR7"
      },
      "execution_count": null,
      "outputs": []
    },
    {
      "cell_type": "code",
      "source": [
        ""
      ],
      "metadata": {
        "id": "Yk5rBnqYi1hM"
      },
      "execution_count": 2,
      "outputs": []
    },
    {
      "cell_type": "markdown",
      "source": [
        "**Renomeando colunas**"
      ],
      "metadata": {
        "id": "Wia13aiua6NB"
      }
    },
    {
      "cell_type": "code",
      "source": [
        "col = df.columns\n",
        "col\n",
        "\n"
      ],
      "metadata": {
        "colab": {
          "base_uri": "https://localhost:8080/"
        },
        "id": "HJSsq979415U",
        "outputId": "b9dd7882-e119-4b21-c948-1ceca2aa0649"
      },
      "execution_count": 3,
      "outputs": [
        {
          "output_type": "execute_result",
          "data": {
            "text/plain": [
              "Index(['Recency (months)', 'Frequency (times)', 'Monetary (c.c. blood)',\n",
              "       'Time (months)', 'whether he/she donated blood in March 2007'],\n",
              "      dtype='object')"
            ]
          },
          "metadata": {},
          "execution_count": 3
        }
      ]
    },
    {
      "cell_type": "code",
      "source": [
        "colunas = {\n",
        "    'Recency (months)' : 'Recência (meses)', 'Frequency (times)': 'Nº de doações', \n",
        "    'Monetary (c.c. blood)': 'Total de sangue doado(ml)',\n",
        "       'Time (months)' : 'Meses última doação', \n",
        "       'whether he/she donated blood in March 2007': 'Doou ou não'\n",
        "}\n",
        "\n",
        "df = df.rename(columns = colunas)\n",
        "col = df.columns\n",
        "col\n"
      ],
      "metadata": {
        "colab": {
          "base_uri": "https://localhost:8080/"
        },
        "id": "lprf6tBCH21R",
        "outputId": "b492a092-edbf-43da-a511-c8beb492dde0"
      },
      "execution_count": 4,
      "outputs": [
        {
          "output_type": "execute_result",
          "data": {
            "text/plain": [
              "Index(['Recência (meses)', 'Nº de doações', 'Total de sangue doado(ml)',\n",
              "       'Meses última doação', 'Doou ou não'],\n",
              "      dtype='object')"
            ]
          },
          "metadata": {},
          "execution_count": 4
        }
      ]
    },
    {
      "cell_type": "markdown",
      "source": [
        "**Dados estatísticos do DATASET**"
      ],
      "metadata": {
        "id": "7CvhQUPugfEw"
      }
    },
    {
      "cell_type": "code",
      "source": [
        "df.describe()"
      ],
      "metadata": {
        "colab": {
          "base_uri": "https://localhost:8080/",
          "height": 300
        },
        "id": "uoGSrU9K_-TS",
        "outputId": "c7b245fb-c29e-463f-f217-c3ca42124e71"
      },
      "execution_count": 5,
      "outputs": [
        {
          "output_type": "execute_result",
          "data": {
            "text/plain": [
              "       Recência (meses)  Nº de doações  Total de sangue doado(ml)  \\\n",
              "count        748.000000     748.000000                 748.000000   \n",
              "mean           9.506684       5.514706                1378.676471   \n",
              "std            8.095396       5.839307                1459.826781   \n",
              "min            0.000000       1.000000                 250.000000   \n",
              "25%            2.750000       2.000000                 500.000000   \n",
              "50%            7.000000       4.000000                1000.000000   \n",
              "75%           14.000000       7.000000                1750.000000   \n",
              "max           74.000000      50.000000               12500.000000   \n",
              "\n",
              "       Meses última doação  Doou ou não  \n",
              "count           748.000000   748.000000  \n",
              "mean             34.282086     0.237968  \n",
              "std              24.376714     0.426124  \n",
              "min               2.000000     0.000000  \n",
              "25%              16.000000     0.000000  \n",
              "50%              28.000000     0.000000  \n",
              "75%              50.000000     0.000000  \n",
              "max              98.000000     1.000000  "
            ],
            "text/html": [
              "\n",
              "  <div id=\"df-cdec8bcb-29a6-4cdf-8a96-3000a8bea8b4\">\n",
              "    <div class=\"colab-df-container\">\n",
              "      <div>\n",
              "<style scoped>\n",
              "    .dataframe tbody tr th:only-of-type {\n",
              "        vertical-align: middle;\n",
              "    }\n",
              "\n",
              "    .dataframe tbody tr th {\n",
              "        vertical-align: top;\n",
              "    }\n",
              "\n",
              "    .dataframe thead th {\n",
              "        text-align: right;\n",
              "    }\n",
              "</style>\n",
              "<table border=\"1\" class=\"dataframe\">\n",
              "  <thead>\n",
              "    <tr style=\"text-align: right;\">\n",
              "      <th></th>\n",
              "      <th>Recência (meses)</th>\n",
              "      <th>Nº de doações</th>\n",
              "      <th>Total de sangue doado(ml)</th>\n",
              "      <th>Meses última doação</th>\n",
              "      <th>Doou ou não</th>\n",
              "    </tr>\n",
              "  </thead>\n",
              "  <tbody>\n",
              "    <tr>\n",
              "      <th>count</th>\n",
              "      <td>748.000000</td>\n",
              "      <td>748.000000</td>\n",
              "      <td>748.000000</td>\n",
              "      <td>748.000000</td>\n",
              "      <td>748.000000</td>\n",
              "    </tr>\n",
              "    <tr>\n",
              "      <th>mean</th>\n",
              "      <td>9.506684</td>\n",
              "      <td>5.514706</td>\n",
              "      <td>1378.676471</td>\n",
              "      <td>34.282086</td>\n",
              "      <td>0.237968</td>\n",
              "    </tr>\n",
              "    <tr>\n",
              "      <th>std</th>\n",
              "      <td>8.095396</td>\n",
              "      <td>5.839307</td>\n",
              "      <td>1459.826781</td>\n",
              "      <td>24.376714</td>\n",
              "      <td>0.426124</td>\n",
              "    </tr>\n",
              "    <tr>\n",
              "      <th>min</th>\n",
              "      <td>0.000000</td>\n",
              "      <td>1.000000</td>\n",
              "      <td>250.000000</td>\n",
              "      <td>2.000000</td>\n",
              "      <td>0.000000</td>\n",
              "    </tr>\n",
              "    <tr>\n",
              "      <th>25%</th>\n",
              "      <td>2.750000</td>\n",
              "      <td>2.000000</td>\n",
              "      <td>500.000000</td>\n",
              "      <td>16.000000</td>\n",
              "      <td>0.000000</td>\n",
              "    </tr>\n",
              "    <tr>\n",
              "      <th>50%</th>\n",
              "      <td>7.000000</td>\n",
              "      <td>4.000000</td>\n",
              "      <td>1000.000000</td>\n",
              "      <td>28.000000</td>\n",
              "      <td>0.000000</td>\n",
              "    </tr>\n",
              "    <tr>\n",
              "      <th>75%</th>\n",
              "      <td>14.000000</td>\n",
              "      <td>7.000000</td>\n",
              "      <td>1750.000000</td>\n",
              "      <td>50.000000</td>\n",
              "      <td>0.000000</td>\n",
              "    </tr>\n",
              "    <tr>\n",
              "      <th>max</th>\n",
              "      <td>74.000000</td>\n",
              "      <td>50.000000</td>\n",
              "      <td>12500.000000</td>\n",
              "      <td>98.000000</td>\n",
              "      <td>1.000000</td>\n",
              "    </tr>\n",
              "  </tbody>\n",
              "</table>\n",
              "</div>\n",
              "      <button class=\"colab-df-convert\" onclick=\"convertToInteractive('df-cdec8bcb-29a6-4cdf-8a96-3000a8bea8b4')\"\n",
              "              title=\"Convert this dataframe to an interactive table.\"\n",
              "              style=\"display:none;\">\n",
              "        \n",
              "  <svg xmlns=\"http://www.w3.org/2000/svg\" height=\"24px\"viewBox=\"0 0 24 24\"\n",
              "       width=\"24px\">\n",
              "    <path d=\"M0 0h24v24H0V0z\" fill=\"none\"/>\n",
              "    <path d=\"M18.56 5.44l.94 2.06.94-2.06 2.06-.94-2.06-.94-.94-2.06-.94 2.06-2.06.94zm-11 1L8.5 8.5l.94-2.06 2.06-.94-2.06-.94L8.5 2.5l-.94 2.06-2.06.94zm10 10l.94 2.06.94-2.06 2.06-.94-2.06-.94-.94-2.06-.94 2.06-2.06.94z\"/><path d=\"M17.41 7.96l-1.37-1.37c-.4-.4-.92-.59-1.43-.59-.52 0-1.04.2-1.43.59L10.3 9.45l-7.72 7.72c-.78.78-.78 2.05 0 2.83L4 21.41c.39.39.9.59 1.41.59.51 0 1.02-.2 1.41-.59l7.78-7.78 2.81-2.81c.8-.78.8-2.07 0-2.86zM5.41 20L4 18.59l7.72-7.72 1.47 1.35L5.41 20z\"/>\n",
              "  </svg>\n",
              "      </button>\n",
              "      \n",
              "  <style>\n",
              "    .colab-df-container {\n",
              "      display:flex;\n",
              "      flex-wrap:wrap;\n",
              "      gap: 12px;\n",
              "    }\n",
              "\n",
              "    .colab-df-convert {\n",
              "      background-color: #E8F0FE;\n",
              "      border: none;\n",
              "      border-radius: 50%;\n",
              "      cursor: pointer;\n",
              "      display: none;\n",
              "      fill: #1967D2;\n",
              "      height: 32px;\n",
              "      padding: 0 0 0 0;\n",
              "      width: 32px;\n",
              "    }\n",
              "\n",
              "    .colab-df-convert:hover {\n",
              "      background-color: #E2EBFA;\n",
              "      box-shadow: 0px 1px 2px rgba(60, 64, 67, 0.3), 0px 1px 3px 1px rgba(60, 64, 67, 0.15);\n",
              "      fill: #174EA6;\n",
              "    }\n",
              "\n",
              "    [theme=dark] .colab-df-convert {\n",
              "      background-color: #3B4455;\n",
              "      fill: #D2E3FC;\n",
              "    }\n",
              "\n",
              "    [theme=dark] .colab-df-convert:hover {\n",
              "      background-color: #434B5C;\n",
              "      box-shadow: 0px 1px 3px 1px rgba(0, 0, 0, 0.15);\n",
              "      filter: drop-shadow(0px 1px 2px rgba(0, 0, 0, 0.3));\n",
              "      fill: #FFFFFF;\n",
              "    }\n",
              "  </style>\n",
              "\n",
              "      <script>\n",
              "        const buttonEl =\n",
              "          document.querySelector('#df-cdec8bcb-29a6-4cdf-8a96-3000a8bea8b4 button.colab-df-convert');\n",
              "        buttonEl.style.display =\n",
              "          google.colab.kernel.accessAllowed ? 'block' : 'none';\n",
              "\n",
              "        async function convertToInteractive(key) {\n",
              "          const element = document.querySelector('#df-cdec8bcb-29a6-4cdf-8a96-3000a8bea8b4');\n",
              "          const dataTable =\n",
              "            await google.colab.kernel.invokeFunction('convertToInteractive',\n",
              "                                                     [key], {});\n",
              "          if (!dataTable) return;\n",
              "\n",
              "          const docLinkHtml = 'Like what you see? Visit the ' +\n",
              "            '<a target=\"_blank\" href=https://colab.research.google.com/notebooks/data_table.ipynb>data table notebook</a>'\n",
              "            + ' to learn more about interactive tables.';\n",
              "          element.innerHTML = '';\n",
              "          dataTable['output_type'] = 'display_data';\n",
              "          await google.colab.output.renderOutput(dataTable, element);\n",
              "          const docLink = document.createElement('div');\n",
              "          docLink.innerHTML = docLinkHtml;\n",
              "          element.appendChild(docLink);\n",
              "        }\n",
              "      </script>\n",
              "    </div>\n",
              "  </div>\n",
              "  "
            ]
          },
          "metadata": {},
          "execution_count": 5
        }
      ]
    },
    {
      "cell_type": "code",
      "source": [
        "df.info()\n",
        "df.groupby('Doou ou não').count()"
      ],
      "metadata": {
        "colab": {
          "base_uri": "https://localhost:8080/",
          "height": 352
        },
        "id": "-CBEqq_TSL3C",
        "outputId": "e65b3593-124b-45f9-bd94-ff384d3ab227"
      },
      "execution_count": 6,
      "outputs": [
        {
          "output_type": "stream",
          "name": "stdout",
          "text": [
            "<class 'pandas.core.frame.DataFrame'>\n",
            "RangeIndex: 748 entries, 0 to 747\n",
            "Data columns (total 5 columns):\n",
            " #   Column                     Non-Null Count  Dtype\n",
            "---  ------                     --------------  -----\n",
            " 0   Recência (meses)           748 non-null    int64\n",
            " 1   Nº de doações              748 non-null    int64\n",
            " 2   Total de sangue doado(ml)  748 non-null    int64\n",
            " 3   Meses última doação        748 non-null    int64\n",
            " 4   Doou ou não                748 non-null    int64\n",
            "dtypes: int64(5)\n",
            "memory usage: 29.3 KB\n"
          ]
        },
        {
          "output_type": "execute_result",
          "data": {
            "text/plain": [
              "             Recência (meses)  Nº de doações  Total de sangue doado(ml)  \\\n",
              "Doou ou não                                                               \n",
              "0                         570            570                        570   \n",
              "1                         178            178                        178   \n",
              "\n",
              "             Meses última doação  \n",
              "Doou ou não                       \n",
              "0                            570  \n",
              "1                            178  "
            ],
            "text/html": [
              "\n",
              "  <div id=\"df-d3e381d5-f14c-4872-b9af-0d66901240c9\">\n",
              "    <div class=\"colab-df-container\">\n",
              "      <div>\n",
              "<style scoped>\n",
              "    .dataframe tbody tr th:only-of-type {\n",
              "        vertical-align: middle;\n",
              "    }\n",
              "\n",
              "    .dataframe tbody tr th {\n",
              "        vertical-align: top;\n",
              "    }\n",
              "\n",
              "    .dataframe thead th {\n",
              "        text-align: right;\n",
              "    }\n",
              "</style>\n",
              "<table border=\"1\" class=\"dataframe\">\n",
              "  <thead>\n",
              "    <tr style=\"text-align: right;\">\n",
              "      <th></th>\n",
              "      <th>Recência (meses)</th>\n",
              "      <th>Nº de doações</th>\n",
              "      <th>Total de sangue doado(ml)</th>\n",
              "      <th>Meses última doação</th>\n",
              "    </tr>\n",
              "    <tr>\n",
              "      <th>Doou ou não</th>\n",
              "      <th></th>\n",
              "      <th></th>\n",
              "      <th></th>\n",
              "      <th></th>\n",
              "    </tr>\n",
              "  </thead>\n",
              "  <tbody>\n",
              "    <tr>\n",
              "      <th>0</th>\n",
              "      <td>570</td>\n",
              "      <td>570</td>\n",
              "      <td>570</td>\n",
              "      <td>570</td>\n",
              "    </tr>\n",
              "    <tr>\n",
              "      <th>1</th>\n",
              "      <td>178</td>\n",
              "      <td>178</td>\n",
              "      <td>178</td>\n",
              "      <td>178</td>\n",
              "    </tr>\n",
              "  </tbody>\n",
              "</table>\n",
              "</div>\n",
              "      <button class=\"colab-df-convert\" onclick=\"convertToInteractive('df-d3e381d5-f14c-4872-b9af-0d66901240c9')\"\n",
              "              title=\"Convert this dataframe to an interactive table.\"\n",
              "              style=\"display:none;\">\n",
              "        \n",
              "  <svg xmlns=\"http://www.w3.org/2000/svg\" height=\"24px\"viewBox=\"0 0 24 24\"\n",
              "       width=\"24px\">\n",
              "    <path d=\"M0 0h24v24H0V0z\" fill=\"none\"/>\n",
              "    <path d=\"M18.56 5.44l.94 2.06.94-2.06 2.06-.94-2.06-.94-.94-2.06-.94 2.06-2.06.94zm-11 1L8.5 8.5l.94-2.06 2.06-.94-2.06-.94L8.5 2.5l-.94 2.06-2.06.94zm10 10l.94 2.06.94-2.06 2.06-.94-2.06-.94-.94-2.06-.94 2.06-2.06.94z\"/><path d=\"M17.41 7.96l-1.37-1.37c-.4-.4-.92-.59-1.43-.59-.52 0-1.04.2-1.43.59L10.3 9.45l-7.72 7.72c-.78.78-.78 2.05 0 2.83L4 21.41c.39.39.9.59 1.41.59.51 0 1.02-.2 1.41-.59l7.78-7.78 2.81-2.81c.8-.78.8-2.07 0-2.86zM5.41 20L4 18.59l7.72-7.72 1.47 1.35L5.41 20z\"/>\n",
              "  </svg>\n",
              "      </button>\n",
              "      \n",
              "  <style>\n",
              "    .colab-df-container {\n",
              "      display:flex;\n",
              "      flex-wrap:wrap;\n",
              "      gap: 12px;\n",
              "    }\n",
              "\n",
              "    .colab-df-convert {\n",
              "      background-color: #E8F0FE;\n",
              "      border: none;\n",
              "      border-radius: 50%;\n",
              "      cursor: pointer;\n",
              "      display: none;\n",
              "      fill: #1967D2;\n",
              "      height: 32px;\n",
              "      padding: 0 0 0 0;\n",
              "      width: 32px;\n",
              "    }\n",
              "\n",
              "    .colab-df-convert:hover {\n",
              "      background-color: #E2EBFA;\n",
              "      box-shadow: 0px 1px 2px rgba(60, 64, 67, 0.3), 0px 1px 3px 1px rgba(60, 64, 67, 0.15);\n",
              "      fill: #174EA6;\n",
              "    }\n",
              "\n",
              "    [theme=dark] .colab-df-convert {\n",
              "      background-color: #3B4455;\n",
              "      fill: #D2E3FC;\n",
              "    }\n",
              "\n",
              "    [theme=dark] .colab-df-convert:hover {\n",
              "      background-color: #434B5C;\n",
              "      box-shadow: 0px 1px 3px 1px rgba(0, 0, 0, 0.15);\n",
              "      filter: drop-shadow(0px 1px 2px rgba(0, 0, 0, 0.3));\n",
              "      fill: #FFFFFF;\n",
              "    }\n",
              "  </style>\n",
              "\n",
              "      <script>\n",
              "        const buttonEl =\n",
              "          document.querySelector('#df-d3e381d5-f14c-4872-b9af-0d66901240c9 button.colab-df-convert');\n",
              "        buttonEl.style.display =\n",
              "          google.colab.kernel.accessAllowed ? 'block' : 'none';\n",
              "\n",
              "        async function convertToInteractive(key) {\n",
              "          const element = document.querySelector('#df-d3e381d5-f14c-4872-b9af-0d66901240c9');\n",
              "          const dataTable =\n",
              "            await google.colab.kernel.invokeFunction('convertToInteractive',\n",
              "                                                     [key], {});\n",
              "          if (!dataTable) return;\n",
              "\n",
              "          const docLinkHtml = 'Like what you see? Visit the ' +\n",
              "            '<a target=\"_blank\" href=https://colab.research.google.com/notebooks/data_table.ipynb>data table notebook</a>'\n",
              "            + ' to learn more about interactive tables.';\n",
              "          element.innerHTML = '';\n",
              "          dataTable['output_type'] = 'display_data';\n",
              "          await google.colab.output.renderOutput(dataTable, element);\n",
              "          const docLink = document.createElement('div');\n",
              "          docLink.innerHTML = docLinkHtml;\n",
              "          element.appendChild(docLink);\n",
              "        }\n",
              "      </script>\n",
              "    </div>\n",
              "  </div>\n",
              "  "
            ]
          },
          "metadata": {},
          "execution_count": 6
        }
      ]
    },
    {
      "cell_type": "code",
      "source": [
        ""
      ],
      "metadata": {
        "id": "qvH1TL4mk6-1"
      },
      "execution_count": 6,
      "outputs": []
    },
    {
      "cell_type": "markdown",
      "source": [
        "**Separação da coluna Target**"
      ],
      "metadata": {
        "id": "EDQTON0Lgm7c"
      }
    },
    {
      "cell_type": "code",
      "source": [
        "x= df[[\"Recência (meses)\",\"Nº de doações\",\"Total de sangue doado(ml)\",\"Meses última doação\"]]\n",
        "y= df[[\"Doou ou não\"]]\n",
        "\n",
        "x.head()\n",
        "y.head()"
      ],
      "metadata": {
        "colab": {
          "base_uri": "https://localhost:8080/",
          "height": 206
        },
        "id": "4PhNPmVF02IC",
        "outputId": "a4a8d05b-42d7-46d4-9ffa-5d53233d3dcb"
      },
      "execution_count": 7,
      "outputs": [
        {
          "output_type": "execute_result",
          "data": {
            "text/plain": [
              "   Doou ou não\n",
              "0            1\n",
              "1            1\n",
              "2            1\n",
              "3            1\n",
              "4            0"
            ],
            "text/html": [
              "\n",
              "  <div id=\"df-eba1b505-1f76-4a7c-9017-0d2de0d98bc3\">\n",
              "    <div class=\"colab-df-container\">\n",
              "      <div>\n",
              "<style scoped>\n",
              "    .dataframe tbody tr th:only-of-type {\n",
              "        vertical-align: middle;\n",
              "    }\n",
              "\n",
              "    .dataframe tbody tr th {\n",
              "        vertical-align: top;\n",
              "    }\n",
              "\n",
              "    .dataframe thead th {\n",
              "        text-align: right;\n",
              "    }\n",
              "</style>\n",
              "<table border=\"1\" class=\"dataframe\">\n",
              "  <thead>\n",
              "    <tr style=\"text-align: right;\">\n",
              "      <th></th>\n",
              "      <th>Doou ou não</th>\n",
              "    </tr>\n",
              "  </thead>\n",
              "  <tbody>\n",
              "    <tr>\n",
              "      <th>0</th>\n",
              "      <td>1</td>\n",
              "    </tr>\n",
              "    <tr>\n",
              "      <th>1</th>\n",
              "      <td>1</td>\n",
              "    </tr>\n",
              "    <tr>\n",
              "      <th>2</th>\n",
              "      <td>1</td>\n",
              "    </tr>\n",
              "    <tr>\n",
              "      <th>3</th>\n",
              "      <td>1</td>\n",
              "    </tr>\n",
              "    <tr>\n",
              "      <th>4</th>\n",
              "      <td>0</td>\n",
              "    </tr>\n",
              "  </tbody>\n",
              "</table>\n",
              "</div>\n",
              "      <button class=\"colab-df-convert\" onclick=\"convertToInteractive('df-eba1b505-1f76-4a7c-9017-0d2de0d98bc3')\"\n",
              "              title=\"Convert this dataframe to an interactive table.\"\n",
              "              style=\"display:none;\">\n",
              "        \n",
              "  <svg xmlns=\"http://www.w3.org/2000/svg\" height=\"24px\"viewBox=\"0 0 24 24\"\n",
              "       width=\"24px\">\n",
              "    <path d=\"M0 0h24v24H0V0z\" fill=\"none\"/>\n",
              "    <path d=\"M18.56 5.44l.94 2.06.94-2.06 2.06-.94-2.06-.94-.94-2.06-.94 2.06-2.06.94zm-11 1L8.5 8.5l.94-2.06 2.06-.94-2.06-.94L8.5 2.5l-.94 2.06-2.06.94zm10 10l.94 2.06.94-2.06 2.06-.94-2.06-.94-.94-2.06-.94 2.06-2.06.94z\"/><path d=\"M17.41 7.96l-1.37-1.37c-.4-.4-.92-.59-1.43-.59-.52 0-1.04.2-1.43.59L10.3 9.45l-7.72 7.72c-.78.78-.78 2.05 0 2.83L4 21.41c.39.39.9.59 1.41.59.51 0 1.02-.2 1.41-.59l7.78-7.78 2.81-2.81c.8-.78.8-2.07 0-2.86zM5.41 20L4 18.59l7.72-7.72 1.47 1.35L5.41 20z\"/>\n",
              "  </svg>\n",
              "      </button>\n",
              "      \n",
              "  <style>\n",
              "    .colab-df-container {\n",
              "      display:flex;\n",
              "      flex-wrap:wrap;\n",
              "      gap: 12px;\n",
              "    }\n",
              "\n",
              "    .colab-df-convert {\n",
              "      background-color: #E8F0FE;\n",
              "      border: none;\n",
              "      border-radius: 50%;\n",
              "      cursor: pointer;\n",
              "      display: none;\n",
              "      fill: #1967D2;\n",
              "      height: 32px;\n",
              "      padding: 0 0 0 0;\n",
              "      width: 32px;\n",
              "    }\n",
              "\n",
              "    .colab-df-convert:hover {\n",
              "      background-color: #E2EBFA;\n",
              "      box-shadow: 0px 1px 2px rgba(60, 64, 67, 0.3), 0px 1px 3px 1px rgba(60, 64, 67, 0.15);\n",
              "      fill: #174EA6;\n",
              "    }\n",
              "\n",
              "    [theme=dark] .colab-df-convert {\n",
              "      background-color: #3B4455;\n",
              "      fill: #D2E3FC;\n",
              "    }\n",
              "\n",
              "    [theme=dark] .colab-df-convert:hover {\n",
              "      background-color: #434B5C;\n",
              "      box-shadow: 0px 1px 3px 1px rgba(0, 0, 0, 0.15);\n",
              "      filter: drop-shadow(0px 1px 2px rgba(0, 0, 0, 0.3));\n",
              "      fill: #FFFFFF;\n",
              "    }\n",
              "  </style>\n",
              "\n",
              "      <script>\n",
              "        const buttonEl =\n",
              "          document.querySelector('#df-eba1b505-1f76-4a7c-9017-0d2de0d98bc3 button.colab-df-convert');\n",
              "        buttonEl.style.display =\n",
              "          google.colab.kernel.accessAllowed ? 'block' : 'none';\n",
              "\n",
              "        async function convertToInteractive(key) {\n",
              "          const element = document.querySelector('#df-eba1b505-1f76-4a7c-9017-0d2de0d98bc3');\n",
              "          const dataTable =\n",
              "            await google.colab.kernel.invokeFunction('convertToInteractive',\n",
              "                                                     [key], {});\n",
              "          if (!dataTable) return;\n",
              "\n",
              "          const docLinkHtml = 'Like what you see? Visit the ' +\n",
              "            '<a target=\"_blank\" href=https://colab.research.google.com/notebooks/data_table.ipynb>data table notebook</a>'\n",
              "            + ' to learn more about interactive tables.';\n",
              "          element.innerHTML = '';\n",
              "          dataTable['output_type'] = 'display_data';\n",
              "          await google.colab.output.renderOutput(dataTable, element);\n",
              "          const docLink = document.createElement('div');\n",
              "          docLink.innerHTML = docLinkHtml;\n",
              "          element.appendChild(docLink);\n",
              "        }\n",
              "      </script>\n",
              "    </div>\n",
              "  </div>\n",
              "  "
            ]
          },
          "metadata": {},
          "execution_count": 7
        }
      ]
    },
    {
      "cell_type": "markdown",
      "source": [
        "**Separação em casos de treino e de teste**"
      ],
      "metadata": {
        "id": "XbVMYphUgwO0"
      }
    },
    {
      "cell_type": "code",
      "source": [
        "x_train = x[:561]\n",
        "y_train = y[:561]\n",
        "x_test = x[561:]\n",
        "y_test = y[561:]\n"
      ],
      "metadata": {
        "id": "9RbJzrqU2nfq"
      },
      "execution_count": 8,
      "outputs": []
    },
    {
      "cell_type": "code",
      "source": [
        "\n",
        "\n",
        "x = df.drop('Doou ou não', axis=1)\n",
        "y = df['Doou ou não']"
      ],
      "metadata": {
        "id": "mDAj2GKC_Qna"
      },
      "execution_count": 9,
      "outputs": []
    },
    {
      "cell_type": "code",
      "source": [
        "from sklearn.model_selection import train_test_split\n",
        "x_train, x_test, y_train, y_test = train_test_split(x, y, test_size=0.2)\n",
        "\n",
        "x_test.head()"
      ],
      "metadata": {
        "id": "bBJzRsQyAogt",
        "colab": {
          "base_uri": "https://localhost:8080/",
          "height": 206
        },
        "outputId": "f238e255-81d2-41c7-9836-40c0e00d73f0"
      },
      "execution_count": 29,
      "outputs": [
        {
          "output_type": "execute_result",
          "data": {
            "text/plain": [
              "     Recência (meses)  Nº de doações  Total de sangue doado(ml)  \\\n",
              "668                11              1                        250   \n",
              "317                14              4                       1000   \n",
              "612                 4              1                        250   \n",
              "57                  2              7                       1750   \n",
              "719                23              8                       2000   \n",
              "\n",
              "     Meses última doação  \n",
              "668                   11  \n",
              "317                   26  \n",
              "612                    4  \n",
              "57                    28  \n",
              "719                   69  "
            ],
            "text/html": [
              "\n",
              "  <div id=\"df-1be6c736-7728-4cb1-b21b-471939a99ec0\">\n",
              "    <div class=\"colab-df-container\">\n",
              "      <div>\n",
              "<style scoped>\n",
              "    .dataframe tbody tr th:only-of-type {\n",
              "        vertical-align: middle;\n",
              "    }\n",
              "\n",
              "    .dataframe tbody tr th {\n",
              "        vertical-align: top;\n",
              "    }\n",
              "\n",
              "    .dataframe thead th {\n",
              "        text-align: right;\n",
              "    }\n",
              "</style>\n",
              "<table border=\"1\" class=\"dataframe\">\n",
              "  <thead>\n",
              "    <tr style=\"text-align: right;\">\n",
              "      <th></th>\n",
              "      <th>Recência (meses)</th>\n",
              "      <th>Nº de doações</th>\n",
              "      <th>Total de sangue doado(ml)</th>\n",
              "      <th>Meses última doação</th>\n",
              "    </tr>\n",
              "  </thead>\n",
              "  <tbody>\n",
              "    <tr>\n",
              "      <th>668</th>\n",
              "      <td>11</td>\n",
              "      <td>1</td>\n",
              "      <td>250</td>\n",
              "      <td>11</td>\n",
              "    </tr>\n",
              "    <tr>\n",
              "      <th>317</th>\n",
              "      <td>14</td>\n",
              "      <td>4</td>\n",
              "      <td>1000</td>\n",
              "      <td>26</td>\n",
              "    </tr>\n",
              "    <tr>\n",
              "      <th>612</th>\n",
              "      <td>4</td>\n",
              "      <td>1</td>\n",
              "      <td>250</td>\n",
              "      <td>4</td>\n",
              "    </tr>\n",
              "    <tr>\n",
              "      <th>57</th>\n",
              "      <td>2</td>\n",
              "      <td>7</td>\n",
              "      <td>1750</td>\n",
              "      <td>28</td>\n",
              "    </tr>\n",
              "    <tr>\n",
              "      <th>719</th>\n",
              "      <td>23</td>\n",
              "      <td>8</td>\n",
              "      <td>2000</td>\n",
              "      <td>69</td>\n",
              "    </tr>\n",
              "  </tbody>\n",
              "</table>\n",
              "</div>\n",
              "      <button class=\"colab-df-convert\" onclick=\"convertToInteractive('df-1be6c736-7728-4cb1-b21b-471939a99ec0')\"\n",
              "              title=\"Convert this dataframe to an interactive table.\"\n",
              "              style=\"display:none;\">\n",
              "        \n",
              "  <svg xmlns=\"http://www.w3.org/2000/svg\" height=\"24px\"viewBox=\"0 0 24 24\"\n",
              "       width=\"24px\">\n",
              "    <path d=\"M0 0h24v24H0V0z\" fill=\"none\"/>\n",
              "    <path d=\"M18.56 5.44l.94 2.06.94-2.06 2.06-.94-2.06-.94-.94-2.06-.94 2.06-2.06.94zm-11 1L8.5 8.5l.94-2.06 2.06-.94-2.06-.94L8.5 2.5l-.94 2.06-2.06.94zm10 10l.94 2.06.94-2.06 2.06-.94-2.06-.94-.94-2.06-.94 2.06-2.06.94z\"/><path d=\"M17.41 7.96l-1.37-1.37c-.4-.4-.92-.59-1.43-.59-.52 0-1.04.2-1.43.59L10.3 9.45l-7.72 7.72c-.78.78-.78 2.05 0 2.83L4 21.41c.39.39.9.59 1.41.59.51 0 1.02-.2 1.41-.59l7.78-7.78 2.81-2.81c.8-.78.8-2.07 0-2.86zM5.41 20L4 18.59l7.72-7.72 1.47 1.35L5.41 20z\"/>\n",
              "  </svg>\n",
              "      </button>\n",
              "      \n",
              "  <style>\n",
              "    .colab-df-container {\n",
              "      display:flex;\n",
              "      flex-wrap:wrap;\n",
              "      gap: 12px;\n",
              "    }\n",
              "\n",
              "    .colab-df-convert {\n",
              "      background-color: #E8F0FE;\n",
              "      border: none;\n",
              "      border-radius: 50%;\n",
              "      cursor: pointer;\n",
              "      display: none;\n",
              "      fill: #1967D2;\n",
              "      height: 32px;\n",
              "      padding: 0 0 0 0;\n",
              "      width: 32px;\n",
              "    }\n",
              "\n",
              "    .colab-df-convert:hover {\n",
              "      background-color: #E2EBFA;\n",
              "      box-shadow: 0px 1px 2px rgba(60, 64, 67, 0.3), 0px 1px 3px 1px rgba(60, 64, 67, 0.15);\n",
              "      fill: #174EA6;\n",
              "    }\n",
              "\n",
              "    [theme=dark] .colab-df-convert {\n",
              "      background-color: #3B4455;\n",
              "      fill: #D2E3FC;\n",
              "    }\n",
              "\n",
              "    [theme=dark] .colab-df-convert:hover {\n",
              "      background-color: #434B5C;\n",
              "      box-shadow: 0px 1px 3px 1px rgba(0, 0, 0, 0.15);\n",
              "      filter: drop-shadow(0px 1px 2px rgba(0, 0, 0, 0.3));\n",
              "      fill: #FFFFFF;\n",
              "    }\n",
              "  </style>\n",
              "\n",
              "      <script>\n",
              "        const buttonEl =\n",
              "          document.querySelector('#df-1be6c736-7728-4cb1-b21b-471939a99ec0 button.colab-df-convert');\n",
              "        buttonEl.style.display =\n",
              "          google.colab.kernel.accessAllowed ? 'block' : 'none';\n",
              "\n",
              "        async function convertToInteractive(key) {\n",
              "          const element = document.querySelector('#df-1be6c736-7728-4cb1-b21b-471939a99ec0');\n",
              "          const dataTable =\n",
              "            await google.colab.kernel.invokeFunction('convertToInteractive',\n",
              "                                                     [key], {});\n",
              "          if (!dataTable) return;\n",
              "\n",
              "          const docLinkHtml = 'Like what you see? Visit the ' +\n",
              "            '<a target=\"_blank\" href=https://colab.research.google.com/notebooks/data_table.ipynb>data table notebook</a>'\n",
              "            + ' to learn more about interactive tables.';\n",
              "          element.innerHTML = '';\n",
              "          dataTable['output_type'] = 'display_data';\n",
              "          await google.colab.output.renderOutput(dataTable, element);\n",
              "          const docLink = document.createElement('div');\n",
              "          docLink.innerHTML = docLinkHtml;\n",
              "          element.appendChild(docLink);\n",
              "        }\n",
              "      </script>\n",
              "    </div>\n",
              "  </div>\n",
              "  "
            ]
          },
          "metadata": {},
          "execution_count": 29
        }
      ]
    },
    {
      "cell_type": "code",
      "source": [
        "print(df.iloc[668])\n",
        "print(df.iloc[317])\n",
        "print(df.iloc[612])\n",
        "print(df.iloc[57])\n",
        "print(df.iloc[719])\n"
      ],
      "metadata": {
        "colab": {
          "base_uri": "https://localhost:8080/"
        },
        "id": "ifuPkF7S-plm",
        "outputId": "06662a06-2e0b-4f0b-b41c-ebbbe2950145"
      },
      "execution_count": 33,
      "outputs": [
        {
          "output_type": "stream",
          "name": "stdout",
          "text": [
            "Recência (meses)              11\n",
            "Nº de doações                  1\n",
            "Total de sangue doado(ml)    250\n",
            "Meses última doação           11\n",
            "Doou ou não                    0\n",
            "Name: 668, dtype: int64\n",
            "Recência (meses)               14\n",
            "Nº de doações                   4\n",
            "Total de sangue doado(ml)    1000\n",
            "Meses última doação            26\n",
            "Doou ou não                     0\n",
            "Name: 317, dtype: int64\n",
            "Recência (meses)               4\n",
            "Nº de doações                  1\n",
            "Total de sangue doado(ml)    250\n",
            "Meses última doação            4\n",
            "Doou ou não                    1\n",
            "Name: 612, dtype: int64\n",
            "Recência (meses)                2\n",
            "Nº de doações                   7\n",
            "Total de sangue doado(ml)    1750\n",
            "Meses última doação            28\n",
            "Doou ou não                     1\n",
            "Name: 57, dtype: int64\n",
            "Recência (meses)               23\n",
            "Nº de doações                   8\n",
            "Total de sangue doado(ml)    2000\n",
            "Meses última doação            69\n",
            "Doou ou não                     0\n",
            "Name: 719, dtype: int64\n"
          ]
        }
      ]
    },
    {
      "cell_type": "markdown",
      "source": [
        "**Implementação dos modelos**"
      ],
      "metadata": {
        "id": "OfMRWVLCg3F0"
      }
    },
    {
      "cell_type": "code",
      "source": [
        "\n",
        "import matplotlib.pyplot as plt\n",
        "from sklearn.metrics import confusion_matrix, ConfusionMatrixDisplay\n",
        "from sklearn.datasets import make_classification\n",
        "from sklearn.linear_model import LogisticRegression\n",
        "from sklearn import metrics\n",
        "\n",
        "\n",
        "\n",
        "\n",
        "\n",
        "lr = LogisticRegression(C=1e5,max_iter=1000)\n",
        "\n",
        "lr.fit(x_train, y_train)\n",
        "y_pred =lr.predict(x_test)\n",
        "from joblib import dump, load\n",
        "dump(lr , 'LR.joblib')\n",
        "\n",
        "print(\"Acurácia:\",metrics.accuracy_score(y_test, y_pred))\n",
        "print(\"Precisão:\",metrics.precision_score(y_test, y_pred))\n",
        "print(\"Recall:\",metrics.recall_score(y_test, y_pred)) \n",
        "print(\"F1:\",metrics.f1_score(y_test, y_pred))\n",
        "\n",
        "\n",
        "%matplotlib inline\n",
        "cm = confusion_matrix(y_test, y_pred)\n",
        "\n",
        "disp = ConfusionMatrixDisplay(confusion_matrix=cm)\n",
        "disp.plot()"
      ],
      "metadata": {
        "colab": {
          "base_uri": "https://localhost:8080/",
          "height": 366
        },
        "id": "fnm1K0TEA5x-",
        "outputId": "38542e22-b1cb-42ac-ee1c-ef92421bbe76"
      },
      "execution_count": 28,
      "outputs": [
        {
          "output_type": "stream",
          "name": "stdout",
          "text": [
            "Acurácia: 0.8066666666666666\n",
            "Precisão: 0.5714285714285714\n",
            "Recall: 0.13333333333333333\n",
            "F1: 0.21621621621621623\n"
          ]
        },
        {
          "output_type": "execute_result",
          "data": {
            "text/plain": [
              "<sklearn.metrics._plot.confusion_matrix.ConfusionMatrixDisplay at 0x7feb33bfff50>"
            ]
          },
          "metadata": {},
          "execution_count": 28
        },
        {
          "output_type": "display_data",
          "data": {
            "text/plain": [
              "<Figure size 432x288 with 2 Axes>"
            ],
            "image/png": "[encoded data removed]"
          },
          "metadata": {
            "needs_background": "light"
          }
        }
      ]
    },
    {
      "cell_type": "code",
      "source": [
        "y_pred_proba = lr.predict_proba(x_test)[::, 1]\n",
        "fpr, tpr, _= metrics.roc_curve(y_test, y_pred_proba)\n",
        "auc = metrics.roc_auc_score(y_test, y_pred_proba)\n",
        "\n",
        "plt.rcParams['figure.figsize'] = (10., 10.)\n",
        "plt.plot(fpr,tpr,label=\"LogisticRegression, auc=\"+str(auc))\n",
        "plt.plot([0, 1], [0, 1], color='red', lw=2, linestyle='--')\n",
        "plt.legend(loc=4)"
      ],
      "metadata": {
        "colab": {
          "base_uri": "https://localhost:8080/",
          "height": 609
        },
        "id": "hhdbuOUYCtOc",
        "outputId": "efabc942-5cb2-4800-c897-059b1e9d2f8e"
      },
      "execution_count": 12,
      "outputs": [
        {
          "output_type": "execute_result",
          "data": {
            "text/plain": [
              "<matplotlib.legend.Legend at 0x7feb33c98d10>"
            ]
          },
          "metadata": {},
          "execution_count": 12
        },
        {
          "output_type": "display_data",
          "data": {
            "text/plain": [
              "<Figure size 720x720 with 1 Axes>"
            ],
            "image/png": "[encoded data removed]"
          },
          "metadata": {
            "needs_background": "light"
          }
        }
      ]
    },
    {
      "cell_type": "code",
      "source": [
        "from sklearn.linear_model import SGDClassifier\n",
        "from sklearn import metrics\n",
        "import matplotlib.pyplot as plt\n",
        "from sklearn.metrics import confusion_matrix, ConfusionMatrixDisplay\n",
        "from sklearn.datasets import make_classification\n",
        "from sklearn.calibration import CalibratedClassifierCV\n",
        "from sklearn.model_selection import GridSearchCV\n",
        "\n",
        "params = {\n",
        "    \"loss\" : [\"hinge\", \"log\", \"squared_hinge\", \"modified_huber\", \"perceptron\"],\n",
        "    \"alpha\" : [0.0001, 0.001, 0.01, 0.1],\n",
        "    \"penalty\" : [\"l2\", \"l1\", \"elasticnet\", \"none\"],\n",
        "}\n",
        "\n",
        "clf = SGDClassifier(max_iter=1000)\n",
        "grid = GridSearchCV(clf, param_grid=params, cv=10)\n",
        "\n",
        "\n",
        "grid.fit(x_train, y_train)\n",
        "\n",
        "print(grid.best_params_) \n",
        "\n",
        "\n",
        "\n",
        "\n",
        "lr = SGDClassifier(alpha= 0.1, loss= 'hinge', penalty= 'l1')\n",
        "clf =lr.fit(x_train, y_train)\n",
        "calibrator = CalibratedClassifierCV(clf, cv='prefit')\n",
        "model = calibrator.fit(x_train, y_train)\n",
        "\n",
        "SGDCpred =model.predict(x_test)\n",
        "%matplotlib inline\n",
        "cm = confusion_matrix(y_test, SGDCpred)\n",
        "\n",
        "disp = ConfusionMatrixDisplay(confusion_matrix=cm)\n",
        "disp.plot()\n",
        "print(\"Acurácia:\",metrics.accuracy_score(y_test, SGDCpred))\n",
        "print(\"Precisão:\",metrics.precision_score(y_test, SGDCpred))\n",
        "print(\"Recall:\",metrics.recall_score(y_test, SGDCpred)) \n",
        "print(\"F1:\",metrics.f1_score(y_test, SGDCpred))\n",
        "\n",
        "\n"
      ],
      "metadata": {
        "id": "BH_Lkyq9BOGT"
      },
      "execution_count": null,
      "outputs": []
    },
    {
      "cell_type": "code",
      "source": [
        "y_pred_proba = model.predict_proba(x_test)[::, 1]\n",
        "fpr, tpr, _= metrics.roc_curve(y_test, y_pred_proba)\n",
        "auc = metrics.roc_auc_score(y_test, y_pred_proba)\n",
        "\n",
        "plt.rcParams['figure.figsize'] = (10., 10.)\n",
        "plt.plot(fpr,tpr,label=\"SGDClassifier, auc=\"+str(auc))\n",
        "plt.plot([0, 1], [0, 1], color='red', lw=2, linestyle='--')\n",
        "plt.legend(loc=4)"
      ],
      "metadata": {
        "id": "mAdbjosPE77q"
      },
      "execution_count": null,
      "outputs": []
    },
    {
      "cell_type": "code",
      "source": [
        "from sklearn.linear_model import SGDOneClassSVM\n",
        "from sklearn import metrics\n",
        "import matplotlib.pyplot as plt\n",
        "from sklearn.metrics import confusion_matrix, ConfusionMatrixDisplay\n",
        "from sklearn.datasets import make_classification\n",
        "\n",
        "\n",
        "ppp = SGDOneClassSVM()\n",
        "\n",
        "ppp.fit(x_train, y_train)\n",
        "ppppred =ppp.predict(x_test)\n",
        "%matplotlib inline\n",
        "cm = confusion_matrix(y_test, ppppred)\n",
        "\n",
        "disp = ConfusionMatrixDisplay(confusion_matrix=cm)\n",
        "disp.plot()\n",
        "print(\"Acurácia:\",metrics.accuracy_score(y_test, ppppred))\n",
        "print(\"Precisão:\",metrics.precision_score(y_test, ppppred))\n",
        "print(\"Recall:\",metrics.recall_score(y_test, ppppred)) \n",
        "print(\"F1:\",metrics.f1_score(y_test, ppppred))"
      ],
      "metadata": {
        "id": "BIXS5l7uDbfD"
      },
      "execution_count": null,
      "outputs": []
    },
    {
      "cell_type": "code",
      "source": [
        "y_pred_proba = ppp.predict_proba(x_test)[::, 1]\n",
        "fpr, tpr, _= metrics.roc_curve(y_test, y_pred_proba)\n",
        "auc = metrics.roc_auc_score(y_test, y_pred_proba)\n",
        "\n",
        "plt.rcParams['figure.figsize'] = (10., 10.)\n",
        "plt.plot(fpr,tpr,label=\"SGDOneClassSVM, auc=\"+str(auc))\n",
        "plt.plot([0, 1], [0, 1], color='red', lw=2, linestyle='--')\n",
        "plt.legend(loc=4)"
      ],
      "metadata": {
        "colab": {
          "base_uri": "https://localhost:8080/",
          "height": 235
        },
        "id": "imfNYs_QF1kX",
        "outputId": "0eecd4e8-ec5d-4650-de70-f5d792de2a20"
      },
      "execution_count": 16,
      "outputs": [
        {
          "output_type": "error",
          "ename": "AttributeError",
          "evalue": "ignored",
          "traceback": [
            "\u001b[0;31m---------------------------------------------------------------------------\u001b[0m",
            "\u001b[0;31mAttributeError\u001b[0m                            Traceback (most recent call last)",
            "\u001b[0;32m<ipython-input-16-c14f54a7777e>\u001b[0m in \u001b[0;36m<module>\u001b[0;34m()\u001b[0m\n\u001b[0;32m----> 1\u001b[0;31m \u001b[0my_pred_proba\u001b[0m \u001b[0;34m=\u001b[0m \u001b[0mppp\u001b[0m\u001b[0;34m.\u001b[0m\u001b[0mpredict_proba\u001b[0m\u001b[0;34m(\u001b[0m\u001b[0mx_test\u001b[0m\u001b[0;34m)\u001b[0m\u001b[0;34m[\u001b[0m\u001b[0;34m:\u001b[0m\u001b[0;34m:\u001b[0m\u001b[0;34m,\u001b[0m \u001b[0;36m1\u001b[0m\u001b[0;34m]\u001b[0m\u001b[0;34m\u001b[0m\u001b[0;34m\u001b[0m\u001b[0m\n\u001b[0m\u001b[1;32m      2\u001b[0m \u001b[0mfpr\u001b[0m\u001b[0;34m,\u001b[0m \u001b[0mtpr\u001b[0m\u001b[0;34m,\u001b[0m \u001b[0m_\u001b[0m\u001b[0;34m=\u001b[0m \u001b[0mmetrics\u001b[0m\u001b[0;34m.\u001b[0m\u001b[0mroc_curve\u001b[0m\u001b[0;34m(\u001b[0m\u001b[0my_test\u001b[0m\u001b[0;34m,\u001b[0m \u001b[0my_pred_proba\u001b[0m\u001b[0;34m)\u001b[0m\u001b[0;34m\u001b[0m\u001b[0;34m\u001b[0m\u001b[0m\n\u001b[1;32m      3\u001b[0m \u001b[0mauc\u001b[0m \u001b[0;34m=\u001b[0m \u001b[0mmetrics\u001b[0m\u001b[0;34m.\u001b[0m\u001b[0mroc_auc_score\u001b[0m\u001b[0;34m(\u001b[0m\u001b[0my_test\u001b[0m\u001b[0;34m,\u001b[0m \u001b[0my_pred_proba\u001b[0m\u001b[0;34m)\u001b[0m\u001b[0;34m\u001b[0m\u001b[0;34m\u001b[0m\u001b[0m\n\u001b[1;32m      4\u001b[0m \u001b[0;34m\u001b[0m\u001b[0m\n\u001b[1;32m      5\u001b[0m \u001b[0mplt\u001b[0m\u001b[0;34m.\u001b[0m\u001b[0mrcParams\u001b[0m\u001b[0;34m[\u001b[0m\u001b[0;34m'figure.figsize'\u001b[0m\u001b[0;34m]\u001b[0m \u001b[0;34m=\u001b[0m \u001b[0;34m(\u001b[0m\u001b[0;36m10.\u001b[0m\u001b[0;34m,\u001b[0m \u001b[0;36m10.\u001b[0m\u001b[0;34m)\u001b[0m\u001b[0;34m\u001b[0m\u001b[0;34m\u001b[0m\u001b[0m\n",
            "\u001b[0;31mAttributeError\u001b[0m: 'SGDOneClassSVM' object has no attribute 'predict_proba'"
          ]
        }
      ]
    },
    {
      "cell_type": "code",
      "source": [
        "from sklearn.neighbors import NearestCentroid\n",
        "from sklearn import metrics\n",
        "import matplotlib.pyplot as plt\n",
        "from sklearn.metrics import confusion_matrix, ConfusionMatrixDisplay\n",
        "from sklearn.datasets import make_classification\n",
        "Nearest = NearestCentroid()\n",
        "\n",
        "Nearest.fit(x_train, y_train)\n",
        "NearestNearest =Nearest.predict(x_test)\n",
        "%matplotlib inline\n",
        "cm = confusion_matrix(y_test, NearestNearest)\n",
        "\n",
        "disp = ConfusionMatrixDisplay(confusion_matrix=cm)\n",
        "disp.plot()\n",
        "print(\"Acurácia:\",metrics.accuracy_score(y_test, NearestNearest))\n",
        "print(\"Precisão:\",metrics.precision_score(y_test, NearestNearest))\n",
        "print(\"Recall:\",metrics.recall_score(y_test, NearestNearest)) \n",
        "print(\"F1:\",metrics.f1_score(y_test, NearestNearest))"
      ],
      "metadata": {
        "id": "Nx_b9IuQDwVN"
      },
      "execution_count": null,
      "outputs": []
    },
    {
      "cell_type": "code",
      "source": [
        "y_pred_proba = Nearest.predict_proba(x_test)[::, 1]\n",
        "fpr, tpr, _= metrics.roc_curve(y_test, y_pred_proba)\n",
        "auc = metrics.roc_auc_score(y_test, y_pred_proba)\n",
        "\n",
        "plt.rcParams['figure.figsize'] = (10., 10.)\n",
        "plt.plot(fpr,tpr,label=\"SGDOneClassSVM, auc=\"+str(auc))\n",
        "plt.plot([0, 1], [0, 1], color='red', lw=2, linestyle='--')\n",
        "plt.legend(loc=4)"
      ],
      "metadata": {
        "id": "db2PkRo8HyuT"
      },
      "execution_count": null,
      "outputs": []
    },
    {
      "cell_type": "code",
      "source": [
        "from sklearn.neighbors import KNeighborsClassifier\n",
        "import matplotlib.pyplot as plt\n",
        "from sklearn.metrics import confusion_matrix, ConfusionMatrixDisplay\n",
        "from sklearn.datasets import make_classification\n",
        "\n",
        "\n",
        "from sklearn.model_selection import GridSearchCV\n",
        "\n",
        "params = {\n",
        "    \"n_neighbors\" : [5, 10, 20, 25],\n",
        "    \"leaf_size\" : [5, 15, 30, 40],\n",
        "   \n",
        "}\n",
        "\n",
        "clf = KNeighborsClassifier()\n",
        "grid = GridSearchCV(clf, param_grid=params, cv=10)\n",
        "\n",
        "\n",
        "grid.fit(x_train, y_train)\n",
        "\n",
        "print(grid.best_params_) \n",
        "\n",
        "kkk = KNeighborsClassifier(leaf_size= 5, n_neighbors= 10)\n",
        "\n",
        "kkk.fit(x_train, y_train)\n",
        "kkkkkk =kkk.predict(x_test)\n",
        "\n",
        "from joblib import dump, load\n",
        "dump(kkk , 'KNN.joblib')\n",
        "%matplotlib inline\n",
        "cm = confusion_matrix(y_test, kkkkkk)\n",
        "\n",
        "disp = ConfusionMatrixDisplay(confusion_matrix=cm)\n",
        "disp.plot()\n",
        "print(\"Acurácia:\",metrics.accuracy_score(y_test, kkkkkk))\n",
        "print(\"Precisão:\",metrics.precision_score(y_test, kkkkkk))\n",
        "print(\"Recall:\",metrics.recall_score(y_test, kkkkkk)) \n",
        "print(\"F1:\",metrics.f1_score(y_test, kkkkkk))"
      ],
      "metadata": {
        "id": "u87HUNFwHzV9"
      },
      "execution_count": null,
      "outputs": []
    },
    {
      "cell_type": "code",
      "source": [
        "y_pred_proba = kkk.predict_proba(x_test)[::, 1]\n",
        "fpr, tpr, _= metrics.roc_curve(y_test, y_pred_proba)\n",
        "auc = metrics.roc_auc_score(y_test, y_pred_proba)\n",
        "\n",
        "plt.rcParams['figure.figsize'] = (10., 10.)\n",
        "plt.plot(fpr,tpr,label=\"KNeighborsClassifier, auc=\"+str(auc))\n",
        "plt.plot([0, 1], [0, 1], color='red', lw=2, linestyle='--')\n",
        "plt.legend(loc=8)"
      ],
      "metadata": {
        "id": "950EA_eNH4GZ"
      },
      "execution_count": null,
      "outputs": []
    },
    {
      "cell_type": "code",
      "source": [
        "from sklearn import svm\n",
        "kkk = svm.SVC()\n",
        "from sklearn.metrics import confusion_matrix, ConfusionMatrixDisplay\n",
        "from sklearn.datasets import make_classification\n",
        "from sklearn.model_selection import GridSearchCV\n",
        "\n",
        "params = {\n",
        "    \"kernel\" : ['linear', 'poly', 'rbf', 'sigmoid', 'precomputed'],\n",
        "   \n",
        "}\n",
        "\n",
        "clf = svm.SVC(kernel='rbf',probability=True)\n",
        "grid = GridSearchCV(clf, param_grid=params, cv=10)\n",
        "\n",
        "\n",
        "grid.fit(x_train, y_train)\n",
        "\n",
        "print(grid.best_params_) \n",
        "kkk.fit(x_train, y_train)\n",
        "kkkkkk =kkk.predict(x_test)\n",
        "%matplotlib inline\n",
        "cm = confusion_matrix(y_test, kkkkkk)\n",
        "\n",
        "disp = ConfusionMatrixDisplay(confusion_matrix=cm)\n",
        "disp.plot()\n",
        "print(\"Acurácia:\",metrics.accuracy_score(y_test, kkkkkk))\n",
        "print(\"Precisão:\",metrics.precision_score(y_test, kkkkkk))\n",
        "print(\"Recall:\",metrics.recall_score(y_test, kkkkkk)) \n",
        "print(\"F1:\",metrics.f1_score(y_test, kkkkkk))"
      ],
      "metadata": {
        "id": "8X0sVN6eIZxb"
      },
      "execution_count": null,
      "outputs": []
    },
    {
      "cell_type": "code",
      "source": [
        "y_pred_proba = kkk.predict_proba(x_test)[::, 1]\n",
        "fpr, tpr, _= metrics.roc_curve(y_test, y_pred_proba)\n",
        "auc = metrics.roc_auc_score(y_test, y_pred_proba)\n",
        "\n",
        "plt.rcParams['figure.figsize'] = (10., 10.)\n",
        "plt.plot(fpr,tpr,label=\"KNeighborsClassifier, auc=\"+str(auc))\n",
        "plt.plot([0, 1], [0, 1], color='red', lw=2, linestyle='--')\n",
        "plt.legend(loc=8)"
      ],
      "metadata": {
        "id": "uaDfRXEXQc-q"
      },
      "execution_count": null,
      "outputs": []
    },
    {
      "cell_type": "code",
      "source": [
        "from sklearn import svm\n",
        "kkk = svm.SVC(kernel='poly',probability=True)\n",
        "from sklearn.metrics import confusion_matrix, ConfusionMatrixDisplay\n",
        "from sklearn.datasets import make_classification\n",
        "\n",
        "kkk.fit(x_train, y_train)\n",
        "kkkkkk =kkk.predict(x_test)\n",
        "%matplotlib inline\n",
        "cm = confusion_matrix(y_test, kkkkkk)\n",
        "\n",
        "disp = ConfusionMatrixDisplay(confusion_matrix=cm)\n",
        "disp.plot()\n",
        "print(\"Acurácia:\",metrics.accuracy_score(y_test, kkkkkk))\n",
        "print(\"Precisão:\",metrics.precision_score(y_test, kkkkkk))\n",
        "print(\"Recall:\",metrics.recall_score(y_test, kkkkkk)) \n",
        "print(\"F1:\",metrics.f1_score(y_test, kkkkkk))\n"
      ],
      "metadata": {
        "id": "c2LR_L77LIG6"
      },
      "execution_count": null,
      "outputs": []
    },
    {
      "cell_type": "code",
      "source": [
        "y_pred_proba = kkk.predict_proba(x_test)[::, 1]\n",
        "fpr, tpr, _= metrics.roc_curve(y_test, y_pred_proba)\n",
        "auc = metrics.roc_auc_score(y_test, y_pred_proba)\n",
        "\n",
        "plt.rcParams['figure.figsize'] = (10., 10.)\n",
        "plt.plot(fpr,tpr,label=\"SVC, auc=\"+str(auc))\n",
        "plt.plot([0, 1], [0, 1], color='red', lw=2, linestyle='--')\n",
        "plt.legend(loc=8)"
      ],
      "metadata": {
        "id": "DxS5-tSiJDFb"
      },
      "execution_count": null,
      "outputs": []
    },
    {
      "cell_type": "code",
      "source": [
        "\n",
        "from sklearn.naive_bayes import GaussianNB\n",
        "\n",
        "kkk = GaussianNB()\n",
        "from sklearn.metrics import confusion_matrix, ConfusionMatrixDisplay\n",
        "from sklearn.datasets import make_classification\n",
        "from sklearn.model_selection import GridSearchCV\n",
        "print(GaussianNB().get_params().keys())\n",
        "\n",
        "\n",
        "params = {\n",
        "    'priors': [None],\n",
        "    'var_smoothing': [0.00000001, 0.000000001, 0.00000001]\n",
        "  \n",
        "}\n",
        "\n",
        "clf = GaussianNB()\n",
        "grid = GridSearchCV(clf, param_grid=params, cv=10)\n",
        "\n",
        "\n",
        "grid.fit(x_train, y_train)\n",
        "\n",
        "print(grid.best_params_) \n",
        "kkk.fit(x_train, y_train)\n",
        "kkkkkk =kkk.predict(x_test)\n",
        "from joblib import dump, load\n",
        "dump(kkk , 'NB.joblib')\n",
        "%matplotlib inline\n",
        "cm = confusion_matrix(y_test, kkkkkk)\n",
        "\n",
        "disp = ConfusionMatrixDisplay(confusion_matrix=cm)\n",
        "disp.plot()\n",
        "\n",
        "\n",
        "print(\"Acurácia:\",metrics.accuracy_score(y_test, kkkkkk))\n",
        "print(\"Precisão:\",metrics.precision_score(y_test, kkkkkk))\n",
        "print(\"Recall:\",metrics.recall_score(y_test, kkkkkk)) \n",
        "print(\"F1:\",metrics.f1_score(y_test, kkkkkk))"
      ],
      "metadata": {
        "id": "jrmiknNCMfO7"
      },
      "execution_count": null,
      "outputs": []
    },
    {
      "cell_type": "code",
      "source": [
        "y_pred_proba = kkk.predict_proba(x_test)[::, 1]\n",
        "fpr, tpr, _= metrics.roc_curve(y_test, y_pred_proba)\n",
        "auc = metrics.roc_auc_score(y_test, y_pred_proba)\n",
        "\n",
        "plt.rcParams['figure.figsize'] = (10., 10.)\n",
        "plt.plot(fpr,tpr,label=\"GaussianNB, auc=\"+str(auc))\n",
        "plt.plot([0, 1], [0, 1], color='red', lw=2, linestyle='--')\n",
        "plt.legend(loc=8)"
      ],
      "metadata": {
        "id": "4BoO7zQbKpx_"
      },
      "execution_count": null,
      "outputs": []
    },
    {
      "cell_type": "code",
      "source": [
        "from sklearn.naive_bayes import ComplementNB\n",
        "kkk = ComplementNB(alpha=1,norm=False)\n",
        "\n",
        "\n",
        "from sklearn.metrics import confusion_matrix, ConfusionMatrixDisplay\n",
        "from sklearn.datasets import make_classification\n",
        "print(ComplementNB().get_params().keys())\n",
        "\n",
        "params = {\n",
        "    'alpha': [0.1,0.8,0.4],\n",
        "    'norm': [True,False]\n",
        "}\n",
        "\n",
        "clf = ComplementNB()\n",
        "grid = GridSearchCV(clf, param_grid=params, cv=10)\n",
        "\n",
        "\n",
        "grid.fit(x_train, y_train)\n",
        "\n",
        "print(grid.best_params_) \n",
        "kkk.fit(x_train, y_train)\n",
        "kkkkkk =kkk.predict(x_test)\n",
        "%matplotlib inline\n",
        "cm = confusion_matrix(y_test, kkkkkk)\n",
        "\n",
        "disp = ConfusionMatrixDisplay(confusion_matrix=cm)\n",
        "disp.plot()\n",
        "print(\"Acurácia:\",metrics.accuracy_score(y_test, kkkkkk))\n",
        "print(\"Precisão:\",metrics.precision_score(y_test, kkkkkk))\n",
        "print(\"Recall:\",metrics.recall_score(y_test, kkkkkk)) \n",
        "print(\"F1:\",metrics.f1_score(y_test, kkkkkk))"
      ],
      "metadata": {
        "id": "QdsX-DsjNymw"
      },
      "execution_count": null,
      "outputs": []
    },
    {
      "cell_type": "code",
      "source": [
        "y_pred_proba = kkk.predict_proba(x_test)[::, 1]\n",
        "fpr, tpr, _= metrics.roc_curve(y_test, y_pred_proba)\n",
        "auc = metrics.roc_auc_score(y_test, y_pred_proba)\n",
        "\n",
        "plt.rcParams['figure.figsize'] = (10., 10.)\n",
        "plt.plot(fpr,tpr,label=\"ComplementNB, auc=\"+str(auc))\n",
        "plt.plot([0, 1], [0, 1], color='red', lw=2, linestyle='--')\n",
        "plt.legend(loc=8)"
      ],
      "metadata": {
        "id": "59u8XtEHK6zy"
      },
      "execution_count": null,
      "outputs": []
    },
    {
      "cell_type": "code",
      "source": [
        "from sklearn.naive_bayes import MultinomialNB\n",
        "kkk = MultinomialNB(alpha=0.1)\n",
        "\n",
        "kkk.fit(x_train, y_train)\n",
        "kkkkkk =kkk.predict(x_test)\n",
        "from sklearn.metrics import confusion_matrix, ConfusionMatrixDisplay\n",
        "from sklearn.datasets import make_classification\n",
        "print(MultinomialNB().get_params().keys())\n",
        "\n",
        "params = {\n",
        "    'alpha': [0.1,0.8,0.4],\n",
        "}\n",
        "\n",
        "clf = MultinomialNB()\n",
        "grid = GridSearchCV(clf, param_grid=params, cv=10)\n",
        "\n",
        "\n",
        "grid.fit(x_train, y_train)\n",
        "\n",
        "print(grid.best_params_) \n",
        "kkk.fit(x_train, y_train)\n",
        "kkkkkk =kkk.predict(x_test)\n",
        "%matplotlib inline\n",
        "cm = confusion_matrix(y_test, kkkkkk)\n",
        "\n",
        "disp = ConfusionMatrixDisplay(confusion_matrix=cm)\n",
        "disp.plot()\n",
        "print(\"Acurácia:\",metrics.accuracy_score(y_test, kkkkkk))\n",
        "print(\"Precisão:\",metrics.precision_score(y_test, kkkkkk))\n",
        "print(\"Recall:\",metrics.recall_score(y_test, kkkkkk)) \n",
        "print(\"F1:\",metrics.f1_score(y_test, kkkkkk))"
      ],
      "metadata": {
        "id": "p100Yrh9OOlP"
      },
      "execution_count": null,
      "outputs": []
    },
    {
      "cell_type": "code",
      "source": [
        "y_pred_proba = kkk.predict_proba(x_test)[::, 1]\n",
        "fpr, tpr, _= metrics.roc_curve(y_test, y_pred_proba)\n",
        "auc = metrics.roc_auc_score(y_test, y_pred_proba)\n",
        "\n",
        "plt.rcParams['figure.figsize'] = (10., 10.)\n",
        "plt.plot(fpr,tpr,label=\"MultinomialNB, auc=\"+str(auc))\n",
        "plt.plot([0, 1], [0, 1], color='red', lw=2, linestyle='--')\n",
        "plt.legend(loc=8)"
      ],
      "metadata": {
        "id": "nVtPqk7fL5Q9"
      },
      "execution_count": null,
      "outputs": []
    },
    {
      "cell_type": "code",
      "source": [
        "from sklearn import tree\n",
        "kkk = tree.DecisionTreeClassifier(min_samples_split =0.2)\n",
        "\n",
        "kkk.fit(x_train, y_train)\n",
        "kkkkkk =kkk.predict(x_test)\n",
        "from sklearn.metrics import confusion_matrix, ConfusionMatrixDisplay\n",
        "from sklearn.datasets import make_classification\n",
        "print(tree.DecisionTreeClassifier().get_params().keys())\n",
        "\n",
        "params = {\n",
        "    'min_samples_split' :[0.1,0.2,0.3,0.4,0.5,0.9,1.0]\n",
        "    }\n",
        "\n",
        "clf = tree.DecisionTreeClassifier()\n",
        "grid = GridSearchCV(clf, param_grid=params, cv=10)\n",
        "\n",
        "grid.fit(x_train, y_train)\n",
        "\n",
        "print(grid.best_params_) \n",
        "kkk.fit(x_train, y_train)\n",
        "kkkkkk =kkk.predict(x_test)\n",
        "\n",
        "from joblib import dump, load\n",
        "dump(kkk , 'DT.joblib')\n",
        "%matplotlib inline\n",
        "cm = confusion_matrix(y_test, kkkkkk)\n",
        "\n",
        "disp = ConfusionMatrixDisplay(confusion_matrix=cm)\n",
        "disp.plot()\n",
        "print(\"Acurácia:\",metrics.accuracy_score(y_test, kkkkkk))\n",
        "print(\"Precisão:\",metrics.precision_score(y_test, kkkkkk))\n",
        "print(\"Recall:\",metrics.recall_score(y_test, kkkkkk)) \n",
        "print(\"F1:\",metrics.f1_score(y_test, kkkkkk))"
      ],
      "metadata": {
        "id": "nQNxhJvrO9z_"
      },
      "execution_count": null,
      "outputs": []
    },
    {
      "cell_type": "code",
      "source": [
        "y_pred_proba = kkk.predict_proba(x_test)[::, 1]\n",
        "fpr, tpr, _= metrics.roc_curve(y_test, y_pred_proba)\n",
        "auc = metrics.roc_auc_score(y_test, y_pred_proba)\n",
        "\n",
        "plt.rcParams['figure.figsize'] = (10., 10.)\n",
        "plt.plot(fpr,tpr,label=\"DecisionTreeClassifier, auc=\"+str(auc))\n",
        "plt.plot([0, 1], [0, 1], color='red', lw=2, linestyle='--')\n",
        "plt.legend(loc=8)"
      ],
      "metadata": {
        "id": "8z2nC_tJMIEU"
      },
      "execution_count": null,
      "outputs": []
    },
    {
      "cell_type": "code",
      "source": [
        "tree.plot_tree(kkk)\n"
      ],
      "metadata": {
        "id": "vRu8gPF0Auty"
      },
      "execution_count": null,
      "outputs": []
    },
    {
      "cell_type": "code",
      "source": [
        ""
      ],
      "metadata": {
        "id": "9lNnjjMq1TZP"
      },
      "execution_count": null,
      "outputs": []
    },
    {
      "cell_type": "code",
      "source": [
        "import graphviz\n",
        "dot_data = tree.export_graphviz(kkk, out_file=None, \n",
        "                    \n",
        "                     filled=True, rounded=True,  \n",
        "                     special_characters=True)  \n",
        "graph = graphviz.Source(dot_data)  \n",
        "graph "
      ],
      "metadata": {
        "id": "k4jj62qRDeK7"
      },
      "execution_count": null,
      "outputs": []
    },
    {
      "cell_type": "code",
      "source": [
        "from sklearn.ensemble import RandomForestClassifier\n",
        "kkk = RandomForestClassifier(max_depth=1000, min_samples_split=0.1, n_estimators=1000)\n",
        "\n",
        "kkk.fit(x_train, y_train)\n",
        "kkkkkk =kkk.predict(x_test)\n",
        "from sklearn.metrics import confusion_matrix, ConfusionMatrixDisplay\n",
        "from sklearn.datasets import make_classification\n",
        "# print(RandomForestClassifier().get_params().keys())\n",
        "\n",
        "# params = {\n",
        "#     'min_samples_split' :[0.1,0.2,0.3,0.4,0.5,0.9,1.0],\n",
        "#     'n_estimators' : [1,10,100,1000],\n",
        "#     'max_depth' :[1,10,100,1000]\n",
        "#     }\n",
        "\n",
        "# clf = RandomForestClassifier()\n",
        "# grid = GridSearchCV(clf, param_grid=params, cv=10)\n",
        "\n",
        "\n",
        "# grid.fit(x_train, y_train)\n",
        "\n",
        "# print(grid.best_params_) \n",
        "\n",
        "from joblib import dump, load\n",
        "dump(kkk , 'RF.joblib')\n",
        "kkkkkk =kkk.predict(x_test)\n",
        "kkk.fit(x_train, y_train)\n",
        "kkkkkk =kkk.predict(x_test)\n",
        "\n",
        "%matplotlib inline\n",
        "cm = confusion_matrix(y_test, kkkkkk)\n",
        "\n",
        "disp = ConfusionMatrixDisplay(confusion_matrix=cm)\n",
        "disp.plot()\n",
        "print(\"Acurácia:\",metrics.accuracy_score(y_test, kkkkkk))\n",
        "print(\"Precisão:\",metrics.precision_score(y_test, kkkkkk))\n",
        "print(\"Recall:\",metrics.recall_score(y_test, kkkkkk)) \n",
        "print(\"F1:\",metrics.f1_score(y_test, kkkkkk))"
      ],
      "metadata": {
        "id": "Ywi0_dIEPOLn",
        "colab": {
          "base_uri": "https://localhost:8080/",
          "height": 348
        },
        "outputId": "6845d832-396c-485d-aecf-d9f0c372fbfa"
      },
      "execution_count": 18,
      "outputs": [
        {
          "output_type": "stream",
          "name": "stdout",
          "text": [
            "Acurácia: 0.8066666666666666\n",
            "Precisão: 0.5263157894736842\n",
            "Recall: 0.3333333333333333\n",
            "F1: 0.4081632653061224\n"
          ]
        },
        {
          "output_type": "display_data",
          "data": {
            "text/plain": [
              "<Figure size 432x288 with 2 Axes>"
            ],
            "image/png": "[encoded data removed]"
          },
          "metadata": {
            "needs_background": "light"
          }
        }
      ]
    },
    {
      "cell_type": "code",
      "source": [
        "y_pred_proba = kkk.predict_proba(x_test)[::, 1]\n",
        "fpr, tpr, _= metrics.roc_curve(y_test, y_pred_proba)\n",
        "auc = metrics.roc_auc_score(y_test, y_pred_proba)\n",
        "\n",
        "plt.rcParams['figure.figsize'] = (10., 10.)\n",
        "plt.plot(fpr,tpr,label=\"RandomForestClassifier, auc=\"+str(auc))\n",
        "plt.plot([0, 1], [0, 1], color='red', lw=2, linestyle='--')\n",
        "plt.legend(loc=8)"
      ],
      "metadata": {
        "id": "laU9XDCyMytr"
      },
      "execution_count": null,
      "outputs": []
    },
    {
      "cell_type": "code",
      "source": [
        ""
      ],
      "metadata": {
        "id": "Oq220qq4FZOW"
      },
      "execution_count": null,
      "outputs": []
    },
    {
      "cell_type": "code",
      "source": [
        "from sklearn.ensemble import ExtraTreesClassifier\n",
        "kkk = ExtraTreesClassifier(n_estimators=100, max_depth=None, min_samples_split=16, random_state=0)\n",
        "\n",
        "kkk.fit(x_train, y_train)\n",
        "kkkkkk =kkk.predict(x_test)\n",
        "from sklearn.metrics import confusion_matrix, ConfusionMatrixDisplay\n",
        "from sklearn.datasets import make_classification\n",
        "\n",
        "kkk.fit(x_train, y_train)\n",
        "kkkkkk =kkk.predict(x_test)\n",
        "\n",
        "from joblib import dump, load\n",
        "dump(kkk , 'ET.joblib')\n",
        "\n",
        "%matplotlib inline\n",
        "cm = confusion_matrix(y_test, kkkkkk)\n",
        "\n",
        "disp = ConfusionMatrixDisplay(confusion_matrix=cm)\n",
        "disp.plot()\n",
        "print(\"Acurácia:\",metrics.accuracy_score(y_test, kkkkkk))\n",
        "print(\"Precisão:\",metrics.precision_score(y_test, kkkkkk))\n",
        "print(\"Recall:\",metrics.recall_score(y_test, kkkkkk)) \n",
        "print(\"F1:\",metrics.f1_score(y_test, kkkkkk))"
      ],
      "metadata": {
        "id": "m8CaON0KTII1",
        "colab": {
          "base_uri": "https://localhost:8080/",
          "height": 348
        },
        "outputId": "1da0ff0f-0da1-4280-982b-f48afcafd746"
      },
      "execution_count": 19,
      "outputs": [
        {
          "output_type": "stream",
          "name": "stdout",
          "text": [
            "Acurácia: 0.8266666666666667\n",
            "Precisão: 0.625\n",
            "Recall: 0.3333333333333333\n",
            "F1: 0.43478260869565216\n"
          ]
        },
        {
          "output_type": "display_data",
          "data": {
            "text/plain": [
              "<Figure size 432x288 with 2 Axes>"
            ],
            "image/png": "[encoded data removed]"
          },
          "metadata": {
            "needs_background": "light"
          }
        }
      ]
    },
    {
      "cell_type": "code",
      "source": [
        "y_pred_proba = kkk.predict_proba(x_test)[::, 1]\n",
        "fpr, tpr, _= metrics.roc_curve(y_test, y_pred_proba)\n",
        "auc = metrics.roc_auc_score(y_test, y_pred_proba)\n",
        "\n",
        "plt.rcParams['figure.figsize'] = (10., 10.)\n",
        "plt.plot(fpr,tpr,label=\"ExtraTreesClassifier, auc=\"+str(auc))\n",
        "plt.plot([0, 1], [0, 1], color='red', lw=2, linestyle='--')\n",
        "plt.legend(loc=8)"
      ],
      "metadata": {
        "id": "zpnnH2SkNpVx"
      },
      "execution_count": null,
      "outputs": []
    },
    {
      "cell_type": "code",
      "source": [
        "\n",
        "from sklearn.ensemble import AdaBoostClassifier\n",
        "kkk = AdaBoostClassifier(n_estimators=77,random_state=2)\n",
        "\n",
        "kkk.fit(x_train, y_train)\n",
        "kkkkkk =kkk.predict(x_test)\n",
        "from sklearn.metrics import confusion_matrix, ConfusionMatrixDisplay\n",
        "from sklearn.datasets import make_classification\n",
        "\n",
        "kkk.fit(x_train, y_train)\n",
        "kkkkkk =kkk.predict(x_test)\n",
        "%matplotlib inline\n",
        "cm = confusion_matrix(y_test, kkkkkk)\n",
        "\n",
        "disp = ConfusionMatrixDisplay(confusion_matrix=cm)\n",
        "disp.plot()\n",
        "print(\"Acurácia:\",metrics.accuracy_score(y_test, kkkkkk))\n",
        "print(\"Precisão:\",metrics.precision_score(y_test, kkkkkk))\n",
        "print(\"Recall:\",metrics.recall_score(y_test, kkkkkk)) \n",
        "print(\"F1:\",metrics.f1_score(y_test, kkkkkk))"
      ],
      "metadata": {
        "id": "HC3fF77mTreZ"
      },
      "execution_count": null,
      "outputs": []
    },
    {
      "cell_type": "code",
      "source": [
        "y_pred_proba = kkk.predict_proba(x_test)[::, 1]\n",
        "fpr, tpr, _= metrics.roc_curve(y_test, y_pred_proba)\n",
        "auc = metrics.roc_auc_score(y_test, y_pred_proba)\n",
        "\n",
        "plt.rcParams['figure.figsize'] = (10., 10.)\n",
        "plt.plot(fpr,tpr,label=\"AdaBoostClassifier, auc=\"+str(auc))\n",
        "plt.plot([0, 1], [0, 1], color='red', lw=2, linestyle='--')\n",
        "plt.legend(loc=8)"
      ],
      "metadata": {
        "id": "bRosp9BxOQMD"
      },
      "execution_count": null,
      "outputs": []
    },
    {
      "cell_type": "code",
      "source": [
        "\n",
        "from sklearn.ensemble import GradientBoostingClassifier\n",
        "kkk = GradientBoostingClassifier(n_estimators=100,learning_rate=0.1, max_depth=1, random_state=0)\n",
        "\n",
        "kkk.fit(x_train, y_train)\n",
        "kkkkkk =kkk.predict(x_test)\n",
        "from sklearn.metrics import confusion_matrix, ConfusionMatrixDisplay\n",
        "from sklearn.datasets import make_classification\n",
        "\n",
        "kkk.fit(x_train, y_train)\n",
        "kkkkkk =kkk.predict(x_test)\n",
        "%matplotlib inline\n",
        "cm = confusion_matrix(y_test, kkkkkk)\n",
        "\n",
        "disp = ConfusionMatrixDisplay(confusion_matrix=cm)\n",
        "disp.plot()\n",
        "print(\"Acurácia:\",metrics.accuracy_score(y_test, kkkkkk))\n",
        "print(\"Precisão:\",metrics.precision_score(y_test, kkkkkk))\n",
        "print(\"Recall:\",metrics.recall_score(y_test, kkkkkk)) \n",
        "print(\"F1:\",metrics.f1_score(y_test, kkkkkk))"
      ],
      "metadata": {
        "id": "EqvSJSZHUc1-"
      },
      "execution_count": null,
      "outputs": []
    },
    {
      "cell_type": "code",
      "source": [
        "y_pred_proba = kkk.predict_proba(x_test)[::, 1]\n",
        "fpr, tpr, _= metrics.roc_curve(y_test, y_pred_proba)\n",
        "auc = metrics.roc_auc_score(y_test, y_pred_proba)\n",
        "\n",
        "plt.rcParams['figure.figsize'] = (10., 10.)\n",
        "plt.plot(fpr,tpr,label=\"GradientBoostingClassifier, auc=\"+str(auc))\n",
        "plt.plot([0, 1], [0, 1], color='red', lw=2, linestyle='--')\n",
        "plt.legend(loc=8)"
      ],
      "metadata": {
        "id": "AL8ifBXfOuvK"
      },
      "execution_count": null,
      "outputs": []
    },
    {
      "cell_type": "code",
      "source": [
        "from sklearn.ensemble import HistGradientBoostingClassifier\n",
        "kkk = HistGradientBoostingClassifier(max_iter=100)\n",
        "\n",
        "\n",
        "kkk.fit(x_train, y_train)\n",
        "kkkkkk =kkk.predict(x_test)\n",
        "%matplotlib inline\n",
        "cm = confusion_matrix(y_test, kkkkkk)\n",
        "\n",
        "disp = ConfusionMatrixDisplay(confusion_matrix=cm)\n",
        "disp.plot()\n",
        "print(\"Acurácia:\",metrics.accuracy_score(y_test, kkkkkk))\n",
        "print(\"Precisão:\",metrics.precision_score(y_test, kkkkkk))\n",
        "print(\"Recall:\",metrics.recall_score(y_test, kkkkkk)) \n",
        "print(\"F1:\",metrics.f1_score(y_test, kkkkkk))"
      ],
      "metadata": {
        "id": "vNx8vrCeU6sg"
      },
      "execution_count": null,
      "outputs": []
    },
    {
      "cell_type": "code",
      "source": [
        "y_pred_proba = kkk.predict_proba(x_test)[::, 1]\n",
        "fpr, tpr, _= metrics.roc_curve(y_test, y_pred_proba)\n",
        "auc = metrics.roc_auc_score(y_test, y_pred_proba)\n",
        "\n",
        "plt.rcParams['figure.figsize'] = (10., 10.)\n",
        "plt.plot(fpr,tpr,label=\"HistGradientBoostingClassifier, auc=\"+str(auc))\n",
        "plt.plot([0, 1], [0, 1], color='red', lw=2, linestyle='--')\n",
        "plt.legend(loc=8)"
      ],
      "metadata": {
        "id": "5ilrWelNPa55"
      },
      "execution_count": null,
      "outputs": []
    },
    {
      "cell_type": "code",
      "source": [
        "\n",
        "from sklearn.ensemble import GradientBoostingClassifier\n",
        "kkk = GradientBoostingClassifier(n_estimators=10, learning_rate=1.0,max_depth=1, random_state=0)\n",
        "\n",
        "kkk.fit(x_train, y_train)\n",
        "kkkkkk =kkk.predict(x_test)\n",
        "%matplotlib inline\n",
        "cm = confusion_matrix(y_test, kkkkkk)\n",
        "\n",
        "disp = ConfusionMatrixDisplay(confusion_matrix=cm)\n",
        "disp.plot()\n",
        "print(\"Acurácia:\",metrics.accuracy_score(y_test, kkkkkk))\n",
        "print(\"Precisão:\",metrics.precision_score(y_test, kkkkkk))\n",
        "print(\"Recall:\",metrics.recall_score(y_test, kkkkkk)) \n",
        "print(\"F1:\",metrics.f1_score(y_test, kkkkkk))"
      ],
      "metadata": {
        "id": "SAUQ161PVReN"
      },
      "execution_count": null,
      "outputs": []
    },
    {
      "cell_type": "code",
      "source": [
        "y_pred_proba = kkk.predict_proba(x_test)[::, 1]\n",
        "fpr, tpr, _= metrics.roc_curve(y_test, y_pred_proba)\n",
        "auc = metrics.roc_auc_score(y_test, y_pred_proba)\n",
        "\n",
        "plt.rcParams['figure.figsize'] = (10., 10.)\n",
        "plt.plot(fpr,tpr,label=\"GradientBoostingClassifier, auc=\"+str(auc))\n",
        "plt.plot([0, 1], [0, 1], color='red', lw=2, linestyle='--')\n",
        "plt.legend(loc=8)"
      ],
      "metadata": {
        "id": "9DwQoPAhPo95"
      },
      "execution_count": null,
      "outputs": []
    }
  ]
}